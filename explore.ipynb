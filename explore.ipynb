{
 "cells": [
  {
   "cell_type": "markdown",
   "metadata": {},
   "source": [
    "# Implementation of MST 2018 ECMA\n",
    "Original paper:\n",
    "- Mogstad, Magne, Andres Santos, and Alexander Torgovitsky. \"Using instrumental variables for inference about policy relevant treatment parameters.\" Econometrica 86.5 (2018): 1589-1619.\n",
    "\n",
    "\n",
    "For an implementation in `R` see\n",
    "- Shea, Joshua, and Alexander Torgovitsky. \"ivmte: An R Package for Extrapolating Instrumental Variable Estimates Away From Compliers.\" Observational Studies 9.2 (2023): 1-42.\n",
    "\n",
    "For an implementation in `julia` see\n",
    "\n",
    "- https://github.com/a-torgovitsky/MarginalTreatmentEffects.jl"
   ]
  },
  {
   "cell_type": "markdown",
   "metadata": {},
   "source": [
    "## Setup\n",
    "\n",
    "- target estimand\n",
    "- set of identified estimands\n",
    "- parameter space\n",
    "  - use finite-dimensional approximation\n",
    "  - for some spaces have exact results using splines"
   ]
  },
  {
   "cell_type": "markdown",
   "metadata": {},
   "source": [
    "### IV-like specifications and $M_S$\n",
    "$$ \\Gamma_s(m) := E\\left[\\int_0^1 m_0(u,X)\\omega_{0s}(u,Z)du\\right] + E\\left[\\int_0^1 m_1(u,X)\\omega_{1s}(u,Z)du\\right] $$\n",
    "where the weights are given by $\\omega_{0s} := s(0,z)I[u>p(z)]$ and $\\omega_{1s} := s(1,z)I[u\\leq p(z)]$. The functions $s(d,z)$ are implied by the given IV-like estimand.\n",
    "\n",
    "Under the assumptions of the model, the MTR functions $m:=(m_0, m_1)$ must satisfy $\\Gamma_s(m) =\\beta_s$ for each IV-like specification $s\\in \\mathcal{S}$."
   ]
  },
  {
   "cell_type": "markdown",
   "metadata": {},
   "source": [
    "Thus, $m\\in M_{\\mathcal{S}} := \\{m\\in M: \\Gamma_s(m) = \\beta_s \\text{ for all } s\\in\\mathcal{S}\\}$."
   ]
  },
  {
   "cell_type": "markdown",
   "metadata": {},
   "source": [
    "### Target Estimand\n",
    "Equivalently, we can define the linear map $\\Gamma^*:M\\to R$ by\n",
    "$$ \\Gamma^*(m) := E\\left[\\int_0^1 m_0(u,X)\\omega_{0s}^*(u,Z)d\\mu^*(u)\\right] + E\\left[\\int_0^1 m_1(u,X)\\omega_{1s}^*(u,Z)d\\mu^*(u)\\right] $$"
   ]
  },
  {
   "cell_type": "markdown",
   "metadata": {},
   "source": [
    "Similarly, under the model assumptions we must have that the target parameter belongs to $B_S^* := \\{b\\in \\mathbb{R}: b = \\Gamma^*(m) \\text{ for some } m\\in M_S\\}$."
   ]
  },
  {
   "cell_type": "markdown",
   "metadata": {},
   "source": [
    "### Optimization Problem\n",
    "Proposition 2 in the paper says that if $M$ is convex, either $B_S^*$ is empty or its closure is (in $\\mathbb{R}$) is equal to the interval $[\\underline{\\beta}^*, \\overline{\\beta}^*]$ where\n",
    "$\\underline{\\beta}^* := \\inf_{m\\in M_S}\\Gamma^*(m)$ and $\\overline{\\beta}^* := \\sup_{m\\in M_S}\\Gamma^*(m)$."
   ]
  },
  {
   "cell_type": "markdown",
   "metadata": {},
   "source": [
    "## Implementation\n",
    "The paper discusses implementation in Section 3. The idea is to replace the possible infinite-dimensional parameter space of functions given by $M$ with a finite-dimensional $M_{fd}\\subseteq M$. In particular, they propose a finite linear basis\n",
    "$$ M_{fd} := \\left\\{ (m_0, m_1) \\in M: m_d(u,x) = \\sum_{k=1}^{K_d}\\theta_{dk}b_{dk}(u,x) \\text{ for some } \\{\\theta_{dk}\\}_{k=1}^{K_d}, d=0,1 \\right\\}.$$\n",
    "\n",
    "Thus, we moved to a finite dimensional space of functions that is characterized by $\\theta := (\\theta_0', \\theta_1')$ and known basis functions $\\{b_{dk}\\}_{k=1}^{K_d}$.\n",
    "\n",
    "Thus, $M_{fd}$ implies a parameter space made of elements $\\theta \\in R^{K_0}\\times R^{K_1}$\n",
    "$$ \\Theta := \\left\\{(\\theta_0, \\theta_1)\\in \\mathbb{R}^{K_0} \\times \\mathbb{R}^{K_1}: \\left(\\sum_{k=1}^{K_0}\\theta_{0k}b_{0k}, \\sum_{k=1}^{K_1}\\theta_{1k}b_{1k},\\right) \\in M \\right\\} $$"
   ]
  },
  {
   "cell_type": "markdown",
   "metadata": {},
   "source": [
    "### Linear Program\n",
    "We can then use the linearity of the mappings $\\Gamma^*$ and $\\Gamma_s$ to write the optimization problem as\n",
    "$$ \\overline{\\beta}^*_{fd} := \\sup_{(\\theta_0, \\theta_1)\\in \\Theta} \\sum_{k=1}^{K_0} \\theta_{0k}\\Gamma_0^*(b_{0k}) + \\sum_{k=1}^{K_1} \\theta_{1k} \\Gamma_1^*(b_{1k}).$$"
   ]
  },
  {
   "cell_type": "markdown",
   "metadata": {},
   "source": [
    "subject to the constraints that $\\sum_{k=1}^{K_0}\\theta_{0k}\\Gamma_{0s}(b_{0k}) + \\sum_{k=1}^{K_1}\\theta_{1k}\\Gamma_{1s}(b_{1k}) = \\beta_s$ for all $s\\in S$. This is the linear program we want to solve."
   ]
  },
  {
   "cell_type": "code",
   "execution_count": 3,
   "metadata": {},
   "outputs": [],
   "source": [
    "from amplpy import AMPL\n",
    "import pandas as pd"
   ]
  },
  {
   "cell_type": "code",
   "execution_count": null,
   "metadata": {},
   "outputs": [],
   "source": []
  }
 ],
 "metadata": {
  "kernelspec": {
   "display_name": "base",
   "language": "python",
   "name": "python3"
  },
  "language_info": {
   "codemirror_mode": {
    "name": "ipython",
    "version": 3
   },
   "file_extension": ".py",
   "mimetype": "text/x-python",
   "name": "python",
   "nbconvert_exporter": "python",
   "pygments_lexer": "ipython3",
   "version": "3.10.9"
  },
  "orig_nbformat": 4
 },
 "nbformat": 4,
 "nbformat_minor": 2
}
