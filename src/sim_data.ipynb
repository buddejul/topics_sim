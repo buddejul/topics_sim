{
 "cells": [
  {
   "cell_type": "code",
   "execution_count": 85,
   "metadata": {},
   "outputs": [],
   "source": [
    "%reload_ext autoreload\n",
    "%autoreload 2\n",
    "import numpy as np\n",
    "from funcs import m0_dgp, m1_dgp\n",
    "from estimators import estimate_iv_slope_nocons, estimate_ols_slope_nocons\n",
    "from simulate_data import simulate_data\n",
    "import matplotlib.pyplot as plt"
   ]
  },
  {
   "cell_type": "code",
   "execution_count": 86,
   "metadata": {},
   "outputs": [],
   "source": [
    "N = 10000  \n",
    "supp_z = np.array([0,1,2])\n",
    "f_z = np.array([0.5,0.4,0.1])\n",
    "prop_z = np.array([0.35,0.6,0.7])"
   ]
  },
  {
   "cell_type": "code",
   "execution_count": 87,
   "metadata": {},
   "outputs": [],
   "source": [
    "data = simulate_data(N=1000, supp_z=supp_z, f_z=f_z, prop_z=prop_z)\n",
    "y = data[:, 0]\n",
    "d = data[:, 1]\n",
    "z = data[:, 2]"
   ]
  },
  {
   "cell_type": "code",
   "execution_count": 88,
   "metadata": {},
   "outputs": [
    {
     "data": {
      "text/plain": [
       "(0.0675335989154991, 0.2563710765271)"
      ]
     },
     "execution_count": 88,
     "metadata": {},
     "output_type": "execute_result"
    }
   ],
   "source": [
    "iv = estimate_iv_slope_nocons(y, z, d)\n",
    "ols = estimate_ols_slope_nocons(y, d)\n",
    "iv, ols #expect 0.074 and 0.253"
   ]
  },
  {
   "cell_type": "code",
   "execution_count": 89,
   "metadata": {},
   "outputs": [],
   "source": [
    "# Draw 1000 observations from the DGP and compute iv, ols\n",
    "reps = 10000\n",
    "N = 1000\n",
    "\n",
    "iv = np.zeros(reps)\n",
    "ols = np.zeros(reps)\n",
    "for i in range(reps):\n",
    "    data = simulate_data(N, supp_z, f_z, prop_z)\n",
    "    y = data[:, 0]\n",
    "    d = data[:, 1]\n",
    "    z = data[:, 2]\n",
    "    iv[i] = estimate_iv_slope_nocons(y, z, d)\n",
    "    ols[i] = estimate_ols_slope_nocons(y, d)"
   ]
  },
  {
   "cell_type": "code",
   "execution_count": 90,
   "metadata": {},
   "outputs": [
    {
     "data": {
      "text/plain": [
       "(0.07123815414965877, 0.2530642064674163)"
      ]
     },
     "execution_count": 90,
     "metadata": {},
     "output_type": "execute_result"
    }
   ],
   "source": [
    "np.mean(iv), np.mean(ols)"
   ]
  },
  {
   "cell_type": "code",
   "execution_count": 93,
   "metadata": {},
   "outputs": [
    {
     "data": {
      "text/plain": [
       "<matplotlib.lines.Line2D at 0x26d56a1fca0>"
      ]
     },
     "execution_count": 93,
     "metadata": {},
     "output_type": "execute_result"
    },
    {
     "data": {
      "image/png": "[encoded data removed]",
      "text/plain": [
       "<Figure size 640x480 with 1 Axes>"
      ]
     },
     "metadata": {},
     "output_type": "display_data"
    }
   ],
   "source": [
    "# Histogram of iv and ols\n",
    "plt.hist(ols, bins=20)\n",
    "plt.hist(iv, bins=20)\n",
    "\n",
    "# Put line at 0.074 and 0.253\n",
    "plt.axvline(x=0.074, color='r', linestyle='--')\n",
    "plt.axvline(x=0.253, color='r', linestyle='--')"
   ]
  }
 ],
 "metadata": {
  "kernelspec": {
   "display_name": "base",
   "language": "python",
   "name": "python3"
  },
  "language_info": {
   "codemirror_mode": {
    "name": "ipython",
    "version": 3
   },
   "file_extension": ".py",
   "mimetype": "text/x-python",
   "name": "python",
   "nbconvert_exporter": "python",
   "pygments_lexer": "ipython3",
   "version": "3.10.9"
  },
  "orig_nbformat": 4
 },
 "nbformat": 4,
 "nbformat_minor": 2
}
