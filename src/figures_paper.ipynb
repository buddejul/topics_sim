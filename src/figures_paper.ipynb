{
 "cells": [
  {
   "cell_type": "code",
   "execution_count": 22,
   "metadata": {},
   "outputs": [
    {
     "name": "stderr",
     "output_type": "stream",
     "text": [
      "[autoreload of funcs failed: Traceback (most recent call last):\n",
      "  File \"c:\\Users\\budde\\anaconda3\\lib\\site-packages\\IPython\\extensions\\autoreload.py\", line 261, in check\n",
      "    superreload(m, reload, self.old_objects)\n",
      "  File \"c:\\Users\\budde\\anaconda3\\lib\\site-packages\\IPython\\extensions\\autoreload.py\", line 459, in superreload\n",
      "    module = reload(module)\n",
      "  File \"c:\\Users\\budde\\anaconda3\\lib\\importlib\\__init__.py\", line 169, in reload\n",
      "    _bootstrap._exec(spec, module)\n",
      "  File \"<frozen importlib._bootstrap>\", line 619, in _exec\n",
      "  File \"<frozen importlib._bootstrap_external>\", line 879, in exec_module\n",
      "  File \"<frozen importlib._bootstrap_external>\", line 1017, in get_code\n",
      "  File \"<frozen importlib._bootstrap_external>\", line 947, in source_to_code\n",
      "  File \"<frozen importlib._bootstrap>\", line 241, in _call_with_frames_removed\n",
      "  File \"c:\\Users\\budde\\OneDrive\\phd_bgse\\courses\\topics_metrics\\topics_sim\\src\\funcs.py\", line 266\n",
      "    ampl.option[\"solve\"] = >rubbishFile.txt\n",
      "                           ^\n",
      "SyntaxError: invalid syntax\n",
      "]\n",
      "[autoreload of funcs failed: Traceback (most recent call last):\n",
      "  File \"c:\\Users\\budde\\anaconda3\\lib\\site-packages\\IPython\\extensions\\autoreload.py\", line 261, in check\n",
      "    superreload(m, reload, self.old_objects)\n",
      "  File \"c:\\Users\\budde\\anaconda3\\lib\\site-packages\\IPython\\extensions\\autoreload.py\", line 459, in superreload\n",
      "    module = reload(module)\n",
      "  File \"c:\\Users\\budde\\anaconda3\\lib\\importlib\\__init__.py\", line 169, in reload\n",
      "    _bootstrap._exec(spec, module)\n",
      "  File \"<frozen importlib._bootstrap>\", line 619, in _exec\n",
      "  File \"<frozen importlib._bootstrap_external>\", line 879, in exec_module\n",
      "  File \"<frozen importlib._bootstrap_external>\", line 1017, in get_code\n",
      "  File \"<frozen importlib._bootstrap_external>\", line 947, in source_to_code\n",
      "  File \"<frozen importlib._bootstrap>\", line 241, in _call_with_frames_removed\n",
      "  File \"c:\\Users\\budde\\OneDrive\\phd_bgse\\courses\\topics_metrics\\topics_sim\\src\\funcs.py\", line 266\n",
      "    ampl.option[\"solve\"] = >rubbishFile.txt\n",
      "                           ^\n",
      "SyntaxError: invalid syntax\n",
      "]\n",
      "[autoreload of funcs failed: Traceback (most recent call last):\n",
      "  File \"c:\\Users\\budde\\anaconda3\\lib\\site-packages\\IPython\\extensions\\autoreload.py\", line 261, in check\n",
      "    superreload(m, reload, self.old_objects)\n",
      "  File \"c:\\Users\\budde\\anaconda3\\lib\\site-packages\\IPython\\extensions\\autoreload.py\", line 459, in superreload\n",
      "    module = reload(module)\n",
      "  File \"c:\\Users\\budde\\anaconda3\\lib\\importlib\\__init__.py\", line 169, in reload\n",
      "    _bootstrap._exec(spec, module)\n",
      "  File \"<frozen importlib._bootstrap>\", line 619, in _exec\n",
      "  File \"<frozen importlib._bootstrap_external>\", line 879, in exec_module\n",
      "  File \"<frozen importlib._bootstrap_external>\", line 1017, in get_code\n",
      "  File \"<frozen importlib._bootstrap_external>\", line 947, in source_to_code\n",
      "  File \"<frozen importlib._bootstrap>\", line 241, in _call_with_frames_removed\n",
      "  File \"c:\\Users\\budde\\OneDrive\\phd_bgse\\courses\\topics_metrics\\topics_sim\\src\\funcs.py\", line 266\n",
      "    ampl.option[\"solve\"] = >rubbishFile.txt\n",
      "                           ^\n",
      "SyntaxError: invalid syntax\n",
      "]\n",
      "[autoreload of funcs failed: Traceback (most recent call last):\n",
      "  File \"c:\\Users\\budde\\anaconda3\\lib\\site-packages\\IPython\\extensions\\autoreload.py\", line 261, in check\n",
      "    superreload(m, reload, self.old_objects)\n",
      "  File \"c:\\Users\\budde\\anaconda3\\lib\\site-packages\\IPython\\extensions\\autoreload.py\", line 459, in superreload\n",
      "    module = reload(module)\n",
      "  File \"c:\\Users\\budde\\anaconda3\\lib\\importlib\\__init__.py\", line 169, in reload\n",
      "    _bootstrap._exec(spec, module)\n",
      "  File \"<frozen importlib._bootstrap>\", line 619, in _exec\n",
      "  File \"<frozen importlib._bootstrap_external>\", line 879, in exec_module\n",
      "  File \"<frozen importlib._bootstrap_external>\", line 1017, in get_code\n",
      "  File \"<frozen importlib._bootstrap_external>\", line 947, in source_to_code\n",
      "  File \"<frozen importlib._bootstrap>\", line 241, in _call_with_frames_removed\n",
      "  File \"c:\\Users\\budde\\OneDrive\\phd_bgse\\courses\\topics_metrics\\topics_sim\\src\\funcs.py\", line 266\n",
      "    ampl.option[\"solve\"] = >rubbishFile.txt\n",
      "                           ^\n",
      "SyntaxError: invalid syntax\n",
      "]\n"
     ]
    }
   ],
   "source": [
    "# Replicate all figures from the paper\n",
    "%reload_ext autoreload\n",
    "%autoreload 2\n",
    "\n",
    "from plot_funcs import *\n",
    "from funcs import m0_dgp, m1_dgp"
   ]
  },
  {
   "cell_type": "code",
   "execution_count": 23,
   "metadata": {},
   "outputs": [],
   "source": [
    "# Define DGP and other parameters\n",
    "# Target\n",
    "target = \"late\"\n",
    "u_lo_target = 0.35\n",
    "u_hi_target = 0.9\n",
    "\n",
    "basis = \"cs\"\n",
    "\n",
    "# Instrument\n",
    "supp_z=np.array([0, 1, 2])\n",
    "f_z=np.array([0.5, 0.4, 0.1])\n",
    "prop_z=np.array([0.35, 0.6, 0.7])\n",
    "\n",
    "# Partition of u for constant spline approximation\n",
    "u_part=np.array([0.35, 0.6, 0.9])"
   ]
  },
  {
   "cell_type": "code",
   "execution_count": 25,
   "metadata": {},
   "outputs": [
    {
     "name": "stderr",
     "output_type": "stream",
     "text": [
      "c:\\Users\\budde\\OneDrive\\phd_bgse\\courses\\topics_metrics\\topics_sim\\src\\funcs.py:59: IntegrationWarning: The maximum number of subdivisions (50) has been achieved.\n",
      "  If increasing the limit yields no improvement it is advised to analyze \n",
      "  the integrand in order to determine the difficulties.  If the position of a \n",
      "  local difficulty can be determined (singularity, discontinuity) one will \n",
      "  probably gain from splitting up the interval and calling the integrator \n",
      "  on the subranges.  Perhaps a special-purpose integrator should be used.\n",
      "  return integrate.quad(\n",
      "c:\\Users\\budde\\OneDrive\\phd_bgse\\courses\\topics_metrics\\topics_sim\\src\\funcs.py:76: IntegrationWarning: The maximum number of subdivisions (50) has been achieved.\n",
      "  If increasing the limit yields no improvement it is advised to analyze \n",
      "  the integrand in order to determine the difficulties.  If the position of a \n",
      "  local difficulty can be determined (singularity, discontinuity) one will \n",
      "  probably gain from splitting up the interval and calling the integrator \n",
      "  on the subranges.  Perhaps a special-purpose integrator should be used.\n",
      "  return np.sum([integrate.quad(func, 0, 1, args=(z,))[0] * f_z[i]\n"
     ]
    },
    {
     "name": "stdout",
     "output_type": "stream",
     "text": [
      "HiGHS 1.5.1: HiGHS 1.5.1: optimal solution; objective -0.4208873737\n",
      "0 simplex iterations\n",
      "0 barrier iterations\n",
      "Objective is: -0.4208873737373858\n",
      "argmax:           Theta_val.val\n",
      "theta0_0       0.000000\n",
      "theta0_1       1.000000\n",
      "theta1_0       0.274048\n",
      "theta1_1       0.000000\n",
      "HiGHS 1.5.1: HiGHS 1.5.1: optimal solution; objective 0.5003247475\n",
      "0 simplex iterations\n",
      "0 barrier iterations\n",
      "Objective is: 0.5003247474747358\n",
      "argmax:           Theta_val.val\n",
      "theta0_0       0.099286\n",
      "theta0_1       0.000000\n",
      "theta1_0       0.000000\n",
      "theta1_1       1.000000\n"
     ]
    },
    {
     "data": {
      "image/png": "[encoded data removed]",
      "text/plain": [
       "<Figure size 1000x400 with 4 Axes>"
      ]
     },
     "metadata": {},
     "output_type": "display_data"
    }
   ],
   "source": [
    "# Figure 1\n",
    "plot_fig(\n",
    "    \"iv_slope\", # the set of identified estimands\n",
    "    basis, # the basis function to use for approximation\n",
    "    target = target, # the target estimand\n",
    "    u_lo_target = u_lo_target, # if target = LATE: lower u\n",
    "    u_hi_target = u_hi_target, # if target = LATE: upper u\n",
    "    u_part = u_part, # if basis = cs: partition of u in [0,1]\n",
    "    supp_z = supp_z, # if identif = iv_slope: support of the instrument\n",
    "    prop_z = prop_z, # if identif = iv_slope: propensity given the instrument\n",
    "    f_z = f_z, # if identif = iv_slope: probability mass function of the instrument\n",
    "    plot_weights_id = True,\n",
    "    plot_weights_target = True,\n",
    "    plot_dgp = True,\n",
    "    m0_dgp = m0_dgp,\n",
    "    m1_dgp = m1_dgp,\n",
    "    print_bounds = False,\n",
    "    quiet = True\n",
    ")"
   ]
  },
  {
   "cell_type": "code",
   "execution_count": null,
   "metadata": {},
   "outputs": [],
   "source": [
    "# Figure 2\n",
    "plot_fig(\n",
    "    \"iv_slope\", # the set of identified estimands\n",
    "    basis, # the basis function to use for approximation\n",
    "    target = target, # the target estimand\n",
    "    u_lo_target = u_lo_target, # if target = LATE: lower u\n",
    "    u_hi_target = u_hi_target, # if target = LATE: upper u\n",
    "    u_part = u_part, # if basis = cs: partition of u in [0,1]\n",
    "    supp_z = supp_z, # if identif = iv_slope: support of the instrument\n",
    "    prop_z = prop_z, # if identif = iv_slope: propensity given the instrument\n",
    "    f_z = f_z, # if identif = iv_slope: probability mass function of the instrument\n",
    "    plot_weights_id = True,\n",
    "    plot_weights_target = True,\n",
    "    plot_dgp = True,\n",
    "    m0_dgp = m0_dgp,\n",
    "    m1_dgp = m1_dgp,\n",
    "    print_bounds = True,\n",
    "    quiet = True\n",
    ")"
   ]
  }
 ],
 "metadata": {
  "kernelspec": {
   "display_name": "base",
   "language": "python",
   "name": "python3"
  },
  "language_info": {
   "codemirror_mode": {
    "name": "ipython",
    "version": 3
   },
   "file_extension": ".py",
   "mimetype": "text/x-python",
   "name": "python",
   "nbconvert_exporter": "python",
   "pygments_lexer": "ipython3",
   "version": "3.10.9"
  },
  "orig_nbformat": 4
 },
 "nbformat": 4,
 "nbformat_minor": 2
}
