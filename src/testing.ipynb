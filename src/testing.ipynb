{
 "cells": [
  {
   "cell_type": "code",
   "execution_count": 45,
   "metadata": {},
   "outputs": [],
   "source": [
    "%reload_ext autoreload\n",
    "%autoreload 2\n",
    "from funcs import *\n",
    "from iv_part_id import *\n",
    "\n",
    "import scipy.integrate as integrate"
   ]
  },
  {
   "cell_type": "code",
   "execution_count": 46,
   "metadata": {},
   "outputs": [],
   "source": [
    "target = \"late\"\n",
    "basis = \"cs\"\n",
    "u_part = np.array([0, 0.35, 0.60, 0.90, 1])"
   ]
  },
  {
   "cell_type": "code",
   "execution_count": 47,
   "metadata": {},
   "outputs": [
    {
     "ename": "TypeError",
     "evalue": "'numpy.int32' object is not iterable",
     "output_type": "error",
     "traceback": [
      "\u001b[1;31m---------------------------------------------------------------------------\u001b[0m",
      "\u001b[1;31mTypeError\u001b[0m                                 Traceback (most recent call last)",
      "Cell \u001b[1;32mIn[47], line 6\u001b[0m\n\u001b[0;32m      3\u001b[0m prop_z\u001b[39m=\u001b[39mnp\u001b[39m.\u001b[39marray([\u001b[39m0.35\u001b[39m, \u001b[39m0.6\u001b[39m, \u001b[39m0.7\u001b[39m])\n\u001b[0;32m      4\u001b[0m u_part\u001b[39m=\u001b[39mnp\u001b[39m.\u001b[39marray([\u001b[39m0\u001b[39m, \u001b[39m0.35\u001b[39m, \u001b[39m0.60\u001b[39m, \u001b[39m0.90\u001b[39m, \u001b[39m1\u001b[39m])\n\u001b[1;32m----> 6\u001b[0m results \u001b[39m=\u001b[39m iv_part_id(\n\u001b[0;32m      7\u001b[0m                 target \u001b[39m=\u001b[39;49m \u001b[39m\"\u001b[39;49m\u001b[39mlate\u001b[39;49m\u001b[39m\"\u001b[39;49m, \n\u001b[0;32m      8\u001b[0m                 identif \u001b[39m=\u001b[39;49m [\u001b[39m\"\u001b[39;49m\u001b[39miv_slope\u001b[39;49m\u001b[39m\"\u001b[39;49m, \u001b[39m\"\u001b[39;49m\u001b[39mols_slope\u001b[39;49m\u001b[39m\"\u001b[39;49m],\n\u001b[0;32m      9\u001b[0m                 basis \u001b[39m=\u001b[39;49m \u001b[39m\"\u001b[39;49m\u001b[39mcs\u001b[39;49m\u001b[39m\"\u001b[39;49m, \n\u001b[0;32m     10\u001b[0m                 m0_dgp \u001b[39m=\u001b[39;49m m0_dgp,\n\u001b[0;32m     11\u001b[0m                 m1_dgp \u001b[39m=\u001b[39;49m m1_dgp,\n\u001b[0;32m     12\u001b[0m                 u_part\u001b[39m=\u001b[39;49mu_part,\n\u001b[0;32m     13\u001b[0m                 u_lo_target \u001b[39m=\u001b[39;49m \u001b[39m0.35\u001b[39;49m, \n\u001b[0;32m     14\u001b[0m                 u_hi_target \u001b[39m=\u001b[39;49m \u001b[39m0.9\u001b[39;49m,\n\u001b[0;32m     15\u001b[0m                 u_lo_id \u001b[39m=\u001b[39;49m [\u001b[39m0.35\u001b[39;49m, \u001b[39m0.6\u001b[39;49m], \n\u001b[0;32m     16\u001b[0m                 u_hi_id \u001b[39m=\u001b[39;49m [\u001b[39m0.6\u001b[39;49m, \u001b[39m0.7\u001b[39;49m],\n\u001b[0;32m     17\u001b[0m                 supp_z \u001b[39m=\u001b[39;49m supp_z,\n\u001b[0;32m     18\u001b[0m                 prop_z \u001b[39m=\u001b[39;49m prop_z,\n\u001b[0;32m     19\u001b[0m                 f_z \u001b[39m=\u001b[39;49m f_z,\n\u001b[0;32m     20\u001b[0m                 quiet \u001b[39m=\u001b[39;49m \u001b[39mFalse\u001b[39;49;00m\n\u001b[0;32m     21\u001b[0m                 )\n",
      "File \u001b[1;32mc:\\Users\\budde\\OneDrive\\phd_bgse\\courses\\topics_metrics\\topics_sim\\src\\iv_part_id.py:80\u001b[0m, in \u001b[0;36miv_part_id\u001b[1;34m(target, identif, basis, m0_dgp, m1_dgp, k0, k1, u_part, u_lo_target, u_hi_target, u_lo_id, u_hi_id, supp_z, prop_z, f_z, dz_cross, quiet)\u001b[0m\n\u001b[0;32m     72\u001b[0m         val_estimands[i] \u001b[39m=\u001b[39m compute_estimand_dgp(\n\u001b[0;32m     73\u001b[0m             \u001b[39m\"\u001b[39m\u001b[39mlate\u001b[39m\u001b[39m\"\u001b[39m,\n\u001b[0;32m     74\u001b[0m             m0_dgp,\n\u001b[0;32m     75\u001b[0m             m1_dgp,\n\u001b[0;32m     76\u001b[0m             u_lo \u001b[39m=\u001b[39m u_lo_id[i],\n\u001b[0;32m     77\u001b[0m             u_hi \u001b[39m=\u001b[39m u_hi_id[i])\n\u001b[0;32m     79\u001b[0m \u001b[39mif\u001b[39;00m n_iv_slope \u001b[39m==\u001b[39m \u001b[39m1\u001b[39m:\n\u001b[1;32m---> 80\u001b[0m     val_estimands[n_late] \u001b[39m=\u001b[39m compute_estimand_dgp(\n\u001b[0;32m     81\u001b[0m         \u001b[39m\"\u001b[39;49m\u001b[39miv_slope\u001b[39;49m\u001b[39m\"\u001b[39;49m,\n\u001b[0;32m     82\u001b[0m         m0_dgp,\n\u001b[0;32m     83\u001b[0m         m1_dgp,\n\u001b[0;32m     84\u001b[0m         supp_z \u001b[39m=\u001b[39;49m supp_z[\u001b[39m0\u001b[39;49m],\n\u001b[0;32m     85\u001b[0m         prop_z \u001b[39m=\u001b[39;49m prop_z[\u001b[39m0\u001b[39;49m],\n\u001b[0;32m     86\u001b[0m         f_z \u001b[39m=\u001b[39;49m f_z[\u001b[39m0\u001b[39;49m])\n\u001b[0;32m     87\u001b[0m \u001b[39melif\u001b[39;00m n_iv_slope \u001b[39m>\u001b[39m \u001b[39m1\u001b[39m:\n\u001b[0;32m     88\u001b[0m     \u001b[39mfor\u001b[39;00m i \u001b[39min\u001b[39;00m \u001b[39mrange\u001b[39m(n_iv_slope):\n",
      "File \u001b[1;32mc:\\Users\\budde\\OneDrive\\phd_bgse\\courses\\topics_metrics\\topics_sim\\src\\funcs.py:168\u001b[0m, in \u001b[0;36mcompute_estimand_dgp\u001b[1;34m(estimand, m0, m1, u_lo, u_hi, supp_z, prop_z, f_z, dz_cross)\u001b[0m\n\u001b[0;32m    165\u001b[0m     b \u001b[39m=\u001b[39m gamma_star(m1, \u001b[39m1\u001b[39m, estimand, u_lo \u001b[39m=\u001b[39m u_lo, u_hi \u001b[39m=\u001b[39m u_hi)\n\u001b[0;32m    167\u001b[0m \u001b[39melif\u001b[39;00m estimand \u001b[39m==\u001b[39m \u001b[39m\"\u001b[39m\u001b[39miv_slope\u001b[39m\u001b[39m\"\u001b[39m \u001b[39mor\u001b[39;00m estimand \u001b[39m==\u001b[39m \u001b[39m\"\u001b[39m\u001b[39mols_slope\u001b[39m\u001b[39m\"\u001b[39m:\n\u001b[1;32m--> 168\u001b[0m     a \u001b[39m=\u001b[39m gamma_star(m0, \u001b[39m0\u001b[39;49m, estimand, \n\u001b[0;32m    169\u001b[0m     supp_z \u001b[39m=\u001b[39;49m supp_z, prop_z \u001b[39m=\u001b[39;49m prop_z, f_z \u001b[39m=\u001b[39;49m f_z)\n\u001b[0;32m    171\u001b[0m     b \u001b[39m=\u001b[39m gamma_star(m1, \u001b[39m1\u001b[39m, estimand, \n\u001b[0;32m    172\u001b[0m     supp_z \u001b[39m=\u001b[39m supp_z, prop_z \u001b[39m=\u001b[39m prop_z, f_z \u001b[39m=\u001b[39m f_z) \n\u001b[0;32m    175\u001b[0m \u001b[39melif\u001b[39;00m estimand \u001b[39m==\u001b[39m \u001b[39m\"\u001b[39m\u001b[39mcross\u001b[39m\u001b[39m\"\u001b[39m:\n",
      "File \u001b[1;32mc:\\Users\\budde\\OneDrive\\phd_bgse\\courses\\topics_metrics\\topics_sim\\src\\funcs.py:96\u001b[0m, in \u001b[0;36mgamma_star\u001b[1;34m(md, d, estimand, u_lo, u_hi, supp_z, prop_z, f_z, dz_cross)\u001b[0m\n\u001b[0;32m     92\u001b[0m             \u001b[39melse\u001b[39;00m : \u001b[39mreturn\u001b[39;00m \u001b[39m0\u001b[39m\n\u001b[0;32m     94\u001b[0m     \u001b[39m# Integrate func over u in [0,1] for every z in supp_z\u001b[39;00m\n\u001b[0;32m     95\u001b[0m     \u001b[39mreturn\u001b[39;00m np\u001b[39m.\u001b[39msum([integrate\u001b[39m.\u001b[39mquad(func, \u001b[39m0\u001b[39m, \u001b[39m1\u001b[39m, args\u001b[39m=\u001b[39m(z,))[\u001b[39m0\u001b[39m] \u001b[39m*\u001b[39m f_z[i] \n\u001b[1;32m---> 96\u001b[0m         \u001b[39mfor\u001b[39;00m i, z \u001b[39min\u001b[39;00m \u001b[39menumerate\u001b[39;49m(supp_z)])\n\u001b[0;32m     98\u001b[0m \u001b[39melif\u001b[39;00m estimand \u001b[39m==\u001b[39m \u001b[39m\"\u001b[39m\u001b[39mols_slope\u001b[39m\u001b[39m\"\u001b[39m:\n\u001b[0;32m     99\u001b[0m     ez, ed, edz, cov_dz \u001b[39m=\u001b[39m compute_moments(supp_z, f_z, prop_z)\n",
      "\u001b[1;31mTypeError\u001b[0m: 'numpy.int32' object is not iterable"
     ]
    }
   ],
   "source": [
    "supp_z=np.array([0, 1, 2])\n",
    "f_z=np.array([0.5, 0.4, 0.1])\n",
    "prop_z=np.array([0.35, 0.6, 0.7])\n",
    "u_part=np.array([0, 0.35, 0.60, 0.90, 1])\n",
    "\n",
    "results = iv_part_id(\n",
    "                target = \"late\", \n",
    "                identif = [\"iv_slope\", \"ols_slope\"],\n",
    "                basis = \"cs\", \n",
    "                m0_dgp = m0_dgp,\n",
    "                m1_dgp = m1_dgp,\n",
    "                u_part=u_part,\n",
    "                u_lo_target = 0.35, \n",
    "                u_hi_target = 0.9,\n",
    "                u_lo_id = [0.35, 0.6], \n",
    "                u_hi_id = [0.6, 0.7],\n",
    "                supp_z = supp_z,\n",
    "                prop_z = prop_z,\n",
    "                f_z = f_z,\n",
    "                quiet = False\n",
    "                )"
   ]
  },
  {
   "cell_type": "code",
   "execution_count": null,
   "metadata": {},
   "outputs": [
    {
     "data": {
      "text/plain": [
       "((-0.40936134020618403,\n",
       "            Theta_val.val\n",
       "  theta0_0       0.000000\n",
       "  theta0_1       0.730623\n",
       "  theta0_2       0.974976\n",
       "  theta0_3       0.000000\n",
       "  theta1_0       1.000000\n",
       "  theta1_1       1.000000\n",
       "  theta1_2       0.000000\n",
       "  theta1_3       0.000000),\n",
       " (0.5003247474747359,\n",
       "            Theta_val.val\n",
       "  theta0_0       0.000000\n",
       "  theta0_1       1.000000\n",
       "  theta0_2       0.000000\n",
       "  theta0_3       0.000000\n",
       "  theta1_0       0.336710\n",
       "  theta1_1       0.900714\n",
       "  theta1_2       1.000000\n",
       "  theta1_3       0.000000))"
      ]
     },
     "execution_count": 226,
     "metadata": {},
     "output_type": "execute_result"
    }
   ],
   "source": [
    "results"
   ]
  },
  {
   "cell_type": "code",
   "execution_count": null,
   "metadata": {},
   "outputs": [
    {
     "data": {
      "text/plain": [
       "(0.12320208333333334, 0.055253333333333335, 0.00999)"
      ]
     },
     "execution_count": 6,
     "metadata": {},
     "output_type": "execute_result"
    }
   ],
   "source": [
    "def m0_dgp(u): \n",
    "    return 0.6 * bern_bas(2, 0, u) + 0.4 * bern_bas(2, 1, u) + 0.3 * bern_bas(2, 2, u)\n",
    "\n",
    "\n",
    "# d = 0, z = 0\n",
    "# d = 0, z = 1\n",
    "# d = 0, z = 2\n",
    "integrate.quad(m0_dgp, 0.35, 1)[0] * 0.5, integrate.quad(m0_dgp, 0.6, 1)[0] * 0.4, integrate.quad(m0_dgp, 0.7, 1)[0] * 0.1"
   ]
  },
  {
   "cell_type": "code",
   "execution_count": null,
   "metadata": {},
   "outputs": [
    {
     "data": {
      "text/plain": [
       "(0.11593749999999999, 0.144, 0.04025000000000001)"
      ]
     },
     "execution_count": 7,
     "metadata": {},
     "output_type": "execute_result"
    }
   ],
   "source": [
    "integrate.quad(m1_dgp, 0, 0.35)[0] * 0.5, integrate.quad(m1_dgp, 0, 0.6)[0] * 0.4, integrate.quad(m1_dgp, 0, 0.7)[0] * 0.1"
   ]
  },
  {
   "cell_type": "code",
   "execution_count": null,
   "metadata": {},
   "outputs": [
    {
     "data": {
      "text/plain": [
       "[0.12320208333333334,\n",
       " 0.055253333333333335,\n",
       " 0.00999,\n",
       " 0.11593749999999999,\n",
       " 0.144,\n",
       " 0.04025000000000001]"
      ]
     },
     "execution_count": 34,
     "metadata": {},
     "output_type": "execute_result"
    }
   ],
   "source": [
    "truth = [integrate.quad(m0_dgp, 0.35, 1)[0] * 0.5, integrate.quad(m0_dgp, 0.6, 1)[0] * 0.4, integrate.quad(m0_dgp, 0.7, 1)[0] * 0.1, integrate.quad(m1_dgp, 0, 0.35)[0] * 0.5, integrate.quad(m1_dgp, 0, 0.6)[0] * 0.4, integrate.quad(m1_dgp, 0, 0.7)[0] * 0.1]\n",
    "\n",
    "dz_cross = [(0, 0), (0, 1), (0, 2), (1, 0), (1, 1), (1, 2)]\n",
    "\n",
    "supp_z = np.array([0, 1, 2])\n",
    "f_z = np.array([0.5, 0.4, 0.1])\n",
    "prop_z = np.array([0.35, 0.6, 0.7])\n",
    "truth\n",
    "\n",
    "# Compute estimand for each tuple in dz_cross\n",
    "compute_estimand_dgp(\n",
    "    \"cross\",\n",
    "    m0_dgp,\n",
    "    m1_dgp,\n",
    "    supp_z = supp_z,\n",
    "    prop_z = prop_z,\n",
    "    f_z = f_z,\n",
    "    dz_cross = (0, 0)\n",
    ")\n",
    "\n",
    "# Loop over all elements of dz_crossvia list comprehension\n",
    "results = [compute_estimand_dgp(\n",
    "    \"cross\",\n",
    "    m0_dgp,\n",
    "    m1_dgp,\n",
    "    supp_z = supp_z,\n",
    "    prop_z = prop_z,\n",
    "    f_z = f_z,\n",
    "    dz_cross = j\n",
    ") for j in dz_cross]\n",
    "\n",
    "results"
   ]
  },
  {
   "cell_type": "code",
   "execution_count": null,
   "metadata": {},
   "outputs": [
    {
     "data": {
      "text/plain": [
       "True"
      ]
     },
     "execution_count": 42,
     "metadata": {},
     "output_type": "execute_result"
    }
   ],
   "source": [
    "np.allclose(results, truth) == False"
   ]
  },
  {
   "cell_type": "code",
   "execution_count": null,
   "metadata": {},
   "outputs": [
    {
     "data": {
      "text/plain": [
       "0.21666666666666667"
      ]
     },
     "execution_count": 44,
     "metadata": {},
     "output_type": "execute_result"
    }
   ],
   "source": [
    "compute_estimand_dgp(\n",
    "    \"cross\",\n",
    "    m0_dgp,\n",
    "    m1_dgp,\n",
    "    supp_z = supp_z,\n",
    "    prop_z = prop_z,\n",
    "    f_z = f_z,\n",
    "    dz_cross = (0, 0)\n",
    ")\n"
   ]
  },
  {
   "cell_type": "code",
   "execution_count": null,
   "metadata": {},
   "outputs": [],
   "source": []
  }
 ],
 "metadata": {
  "kernelspec": {
   "display_name": "base",
   "language": "python",
   "name": "python3"
  },
  "language_info": {
   "codemirror_mode": {
    "name": "ipython",
    "version": 3
   },
   "file_extension": ".py",
   "mimetype": "text/x-python",
   "name": "python",
   "nbconvert_exporter": "python",
   "pygments_lexer": "ipython3",
   "version": "3.10.9"
  },
  "orig_nbformat": 4
 },
 "nbformat": 4,
 "nbformat_minor": 2
}
