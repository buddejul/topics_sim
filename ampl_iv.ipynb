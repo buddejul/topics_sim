{
  "cells": [
    {
      "cell_type": "markdown",
      "metadata": {
        "id": "gprACN0E2fRM"
      },
      "source": [
        "# Simpel AMPL implementation of IV Extrapolation approach"
      ]
    },
    {
      "cell_type": "code",
      "execution_count": 219,
      "metadata": {
        "id": "YZotGiKU3RZY"
      },
      "outputs": [
        {
          "name": "stdout",
          "output_type": "stream",
          "text": [
            "Please provide a valid license UUID. You can use a free https://ampl.com/ce license.\n"
          ]
        },
        {
          "data": {
            "application/vnd.jupyter.widget-view+json": {
              "model_id": "cdb5d32e335e478e9f9d51e96bf5d57f",
              "version_major": 2,
              "version_minor": 0
            },
            "text/plain": [
              "VBox(children=(Output(), HBox(children=(Text(value='', description='License UUID:', style=DescriptionStyle(des…"
            ]
          },
          "metadata": {},
          "output_type": "display_data"
        }
      ],
      "source": [
        "# Google Colab & Kaggle integration\n",
        "from amplpy import AMPL, tools\n",
        "ampl = tools.ampl_notebook(\n",
        "    modules=[\"highs\"], # modules to install\n",
        "    license_uuid=\"default\") # license to use"
      ]
    },
    {
      "cell_type": "markdown",
      "metadata": {
        "id": "BZ5JZD0FzXAg"
      },
      "source": [
        "# Diet Model\n",
        "\n",
        "Problem: minimize linear mapping over parameters $(\\theta_0, \\theta_1)$ subject to the constraint that parameters also give identified parameters.\n",
        "\n",
        "Sets:\n",
        "- `THETA`: Parameter space.\n",
        "- `THETA0`: parameter space of the model for $m_0$\n",
        "- `THETA1`: parameter space of the model for $m_1$\n",
        "- `IDENTIF`: set of identified IV-like estimands.\n",
        "\n",
        "Parameters:\n",
        "- `iv {IDENTIF}`: value of identified IV parameter(s).\n",
        "- `gamma {THETA}`: $\\Gamma^*_{dk}(b_{dk})$ for $d\\in\\{0,1\\}$ and $k=1,\\cdots,K_d$ - contribution to objective by each parameter.\n",
        "\n",
        "Variables:\n",
        "- `t0 {THETA0}`: value of parameters for $m_0$\n",
        "- `t1 {THETA1}`: value of parameters for $m_1$\n",
        "\n",
        "Objective:\n",
        "- `beta_star`: linear map giving $\\overline{\\beta}_{fd}^*$: sum over terms in `Gamma`.\n",
        "\n",
        "Constraints:\n",
        "- `iv {IV_identified}`: ensure that parameters result in identified IV-like estimands.\n",
        "\n",
        "The problem is then modeled as follows:"
      ]
    },
    {
      "cell_type": "code",
      "execution_count": 220,
      "metadata": {
        "id": "4oBfIvMzbnvk"
      },
      "outputs": [],
      "source": [
        "%%ampl_eval\n",
        "reset;\n",
        "set NUTR;\n",
        "set FOOD;\n",
        "\n",
        "param cost {FOOD} > 0;\n",
        "param f_min {FOOD} >= 0;\n",
        "param f_max {j in FOOD} >= f_min[j];\n",
        "\n",
        "param n_min {NUTR} >= 0;\n",
        "param n_max {i in NUTR} >= n_min[i];\n",
        "\n",
        "param amt {NUTR,FOOD} >= 0;\n",
        "\n",
        "var Buy {j in FOOD} >= f_min[j], <= f_max[j];\n",
        "\n",
        "minimize Total_Cost:  sum {j in FOOD} cost[j] * Buy[j];\n",
        "\n",
        "subject to Diet {i in NUTR}:\n",
        "n_min[i] <= sum {j in FOOD} amt[i,j] * Buy[j] <= n_max[i];"
      ]
    },
    {
      "cell_type": "markdown",
      "metadata": {
        "id": "DVPF1DQixgSl"
      },
      "source": [
        "## Prepare `pandas.DataFrame` objects with all the data"
      ]
    },
    {
      "cell_type": "code",
      "execution_count": 221,
      "metadata": {
        "id": "-L5H4Wzoxd36"
      },
      "outputs": [],
      "source": [
        "import pandas as pd\n",
        "import numpy as np\n",
        "food_df = pd.DataFrame(\n",
        "    [\n",
        "        (\"BEEF\", 3.59, 2, 10),\n",
        "        (\"CHK\", 2.59, 2, 10),\n",
        "        (\"FISH\", 2.29, 2, 10),\n",
        "        (\"HAM\", 2.89, 2, 10),\n",
        "        (\"MCH\", 1.89, 2, 10),\n",
        "        (\"MTL\", 1.99, 2, 10),\n",
        "        (\"SPG\", 1.99, 2, 10),\n",
        "        (\"TUR\", 2.49, 2, 10),\n",
        "    ],\n",
        "    columns=[\"FOOD\", \"cost\", \"f_min\", \"f_max\"],\n",
        ").set_index(\"FOOD\")\n",
        "\n",
        "# Create a pandas.DataFrame with data for n_min, n_max\n",
        "nutr_df = pd.DataFrame(\n",
        "    [\n",
        "        (\"A\", 700, 20000),\n",
        "        (\"C\", 700, 20000),\n",
        "        (\"B1\", 700, 20000),\n",
        "        (\"B2\", 700, 20000),\n",
        "        (\"NA\", 0, 50000),\n",
        "        (\"CAL\", 16000, 24000),\n",
        "    ],\n",
        "    columns=[\"NUTR\", \"n_min\", \"n_max\"],\n",
        ").set_index(\"NUTR\")\n",
        "\n",
        "amt_df = pd.DataFrame(\n",
        "    np.matrix(\n",
        "        [\n",
        "            [60, 8, 8, 40, 15, 70, 25, 60],\n",
        "            [20, 0, 10, 40, 35, 30, 50, 20],\n",
        "            [10, 20, 15, 35, 15, 15, 25, 15],\n",
        "            [15, 20, 10, 10, 15, 15, 15, 10],\n",
        "            [928, 2180, 945, 278, 1182, 896, 1329, 1397],\n",
        "            [295, 770, 440, 430, 315, 400, 379, 450],\n",
        "        ]\n",
        "    ),\n",
        "    columns=food_df.index.tolist(),\n",
        "    index=nutr_df.index.tolist(),\n",
        ")"
      ]
    },
    {
      "cell_type": "markdown",
      "metadata": {
        "id": "RtOMAi0KzobG"
      },
      "source": [
        "## Pandas dataframes\n",
        "\n",
        "Cost, minimum, and maximum amount of each food:\n",
        "\n"
      ]
    },
    {
      "cell_type": "code",
      "execution_count": 222,
      "metadata": {
        "colab": {
          "base_uri": "https://localhost:8080/",
          "height": 332
        },
        "id": "dlA9U_2Vzg28",
        "outputId": "64ebdbf5-9980-4b2c-a03c-87624cbd4d63"
      },
      "outputs": [
        {
          "data": {
            "text/html": [
              "<div>\n",
              "<style scoped>\n",
              "    .dataframe tbody tr th:only-of-type {\n",
              "        vertical-align: middle;\n",
              "    }\n",
              "\n",
              "    .dataframe tbody tr th {\n",
              "        vertical-align: top;\n",
              "    }\n",
              "\n",
              "    .dataframe thead th {\n",
              "        text-align: right;\n",
              "    }\n",
              "</style>\n",
              "<table border=\"1\" class=\"dataframe\">\n",
              "  <thead>\n",
              "    <tr style=\"text-align: right;\">\n",
              "      <th></th>\n",
              "      <th>cost</th>\n",
              "      <th>f_min</th>\n",
              "      <th>f_max</th>\n",
              "    </tr>\n",
              "    <tr>\n",
              "      <th>FOOD</th>\n",
              "      <th></th>\n",
              "      <th></th>\n",
              "      <th></th>\n",
              "    </tr>\n",
              "  </thead>\n",
              "  <tbody>\n",
              "    <tr>\n",
              "      <th>BEEF</th>\n",
              "      <td>3.59</td>\n",
              "      <td>2</td>\n",
              "      <td>10</td>\n",
              "    </tr>\n",
              "    <tr>\n",
              "      <th>CHK</th>\n",
              "      <td>2.59</td>\n",
              "      <td>2</td>\n",
              "      <td>10</td>\n",
              "    </tr>\n",
              "    <tr>\n",
              "      <th>FISH</th>\n",
              "      <td>2.29</td>\n",
              "      <td>2</td>\n",
              "      <td>10</td>\n",
              "    </tr>\n",
              "    <tr>\n",
              "      <th>HAM</th>\n",
              "      <td>2.89</td>\n",
              "      <td>2</td>\n",
              "      <td>10</td>\n",
              "    </tr>\n",
              "    <tr>\n",
              "      <th>MCH</th>\n",
              "      <td>1.89</td>\n",
              "      <td>2</td>\n",
              "      <td>10</td>\n",
              "    </tr>\n",
              "    <tr>\n",
              "      <th>MTL</th>\n",
              "      <td>1.99</td>\n",
              "      <td>2</td>\n",
              "      <td>10</td>\n",
              "    </tr>\n",
              "    <tr>\n",
              "      <th>SPG</th>\n",
              "      <td>1.99</td>\n",
              "      <td>2</td>\n",
              "      <td>10</td>\n",
              "    </tr>\n",
              "    <tr>\n",
              "      <th>TUR</th>\n",
              "      <td>2.49</td>\n",
              "      <td>2</td>\n",
              "      <td>10</td>\n",
              "    </tr>\n",
              "  </tbody>\n",
              "</table>\n",
              "</div>"
            ],
            "text/plain": [
              "      cost  f_min  f_max\n",
              "FOOD                    \n",
              "BEEF  3.59      2     10\n",
              "CHK   2.59      2     10\n",
              "FISH  2.29      2     10\n",
              "HAM   2.89      2     10\n",
              "MCH   1.89      2     10\n",
              "MTL   1.99      2     10\n",
              "SPG   1.99      2     10\n",
              "TUR   2.49      2     10"
            ]
          },
          "execution_count": 222,
          "metadata": {},
          "output_type": "execute_result"
        }
      ],
      "source": [
        "food_df"
      ]
    },
    {
      "cell_type": "markdown",
      "metadata": {
        "id": "6QHGKGRl1Sgw"
      },
      "source": [
        "Minimum and maximum amounts of each nutrient:"
      ]
    },
    {
      "cell_type": "code",
      "execution_count": 223,
      "metadata": {
        "colab": {
          "base_uri": "https://localhost:8080/",
          "height": 269
        },
        "id": "-nSsA-qBzjz5",
        "outputId": "5a1c70b5-7e69-4dba-c595-8be75a514c61"
      },
      "outputs": [
        {
          "data": {
            "text/html": [
              "<div>\n",
              "<style scoped>\n",
              "    .dataframe tbody tr th:only-of-type {\n",
              "        vertical-align: middle;\n",
              "    }\n",
              "\n",
              "    .dataframe tbody tr th {\n",
              "        vertical-align: top;\n",
              "    }\n",
              "\n",
              "    .dataframe thead th {\n",
              "        text-align: right;\n",
              "    }\n",
              "</style>\n",
              "<table border=\"1\" class=\"dataframe\">\n",
              "  <thead>\n",
              "    <tr style=\"text-align: right;\">\n",
              "      <th></th>\n",
              "      <th>n_min</th>\n",
              "      <th>n_max</th>\n",
              "    </tr>\n",
              "    <tr>\n",
              "      <th>NUTR</th>\n",
              "      <th></th>\n",
              "      <th></th>\n",
              "    </tr>\n",
              "  </thead>\n",
              "  <tbody>\n",
              "    <tr>\n",
              "      <th>A</th>\n",
              "      <td>700</td>\n",
              "      <td>20000</td>\n",
              "    </tr>\n",
              "    <tr>\n",
              "      <th>C</th>\n",
              "      <td>700</td>\n",
              "      <td>20000</td>\n",
              "    </tr>\n",
              "    <tr>\n",
              "      <th>B1</th>\n",
              "      <td>700</td>\n",
              "      <td>20000</td>\n",
              "    </tr>\n",
              "    <tr>\n",
              "      <th>B2</th>\n",
              "      <td>700</td>\n",
              "      <td>20000</td>\n",
              "    </tr>\n",
              "    <tr>\n",
              "      <th>NA</th>\n",
              "      <td>0</td>\n",
              "      <td>50000</td>\n",
              "    </tr>\n",
              "    <tr>\n",
              "      <th>CAL</th>\n",
              "      <td>16000</td>\n",
              "      <td>24000</td>\n",
              "    </tr>\n",
              "  </tbody>\n",
              "</table>\n",
              "</div>"
            ],
            "text/plain": [
              "      n_min  n_max\n",
              "NUTR              \n",
              "A       700  20000\n",
              "C       700  20000\n",
              "B1      700  20000\n",
              "B2      700  20000\n",
              "NA        0  50000\n",
              "CAL   16000  24000"
            ]
          },
          "execution_count": 223,
          "metadata": {},
          "output_type": "execute_result"
        }
      ],
      "source": [
        "nutr_df"
      ]
    },
    {
      "cell_type": "markdown",
      "metadata": {
        "id": "mJ_3H1QA1hvY"
      },
      "source": [
        "Amount of each nutrient in each food:"
      ]
    },
    {
      "cell_type": "code",
      "execution_count": 224,
      "metadata": {
        "colab": {
          "base_uri": "https://localhost:8080/",
          "height": 300
        },
        "id": "GQD03caEzlX4",
        "outputId": "254e49e0-f961-4f5f-8767-c3e855d15ae5"
      },
      "outputs": [
        {
          "data": {
            "text/html": [
              "<div>\n",
              "<style scoped>\n",
              "    .dataframe tbody tr th:only-of-type {\n",
              "        vertical-align: middle;\n",
              "    }\n",
              "\n",
              "    .dataframe tbody tr th {\n",
              "        vertical-align: top;\n",
              "    }\n",
              "\n",
              "    .dataframe thead th {\n",
              "        text-align: right;\n",
              "    }\n",
              "</style>\n",
              "<table border=\"1\" class=\"dataframe\">\n",
              "  <thead>\n",
              "    <tr style=\"text-align: right;\">\n",
              "      <th></th>\n",
              "      <th>BEEF</th>\n",
              "      <th>CHK</th>\n",
              "      <th>FISH</th>\n",
              "      <th>HAM</th>\n",
              "      <th>MCH</th>\n",
              "      <th>MTL</th>\n",
              "      <th>SPG</th>\n",
              "      <th>TUR</th>\n",
              "    </tr>\n",
              "  </thead>\n",
              "  <tbody>\n",
              "    <tr>\n",
              "      <th>A</th>\n",
              "      <td>60</td>\n",
              "      <td>8</td>\n",
              "      <td>8</td>\n",
              "      <td>40</td>\n",
              "      <td>15</td>\n",
              "      <td>70</td>\n",
              "      <td>25</td>\n",
              "      <td>60</td>\n",
              "    </tr>\n",
              "    <tr>\n",
              "      <th>C</th>\n",
              "      <td>20</td>\n",
              "      <td>0</td>\n",
              "      <td>10</td>\n",
              "      <td>40</td>\n",
              "      <td>35</td>\n",
              "      <td>30</td>\n",
              "      <td>50</td>\n",
              "      <td>20</td>\n",
              "    </tr>\n",
              "    <tr>\n",
              "      <th>B1</th>\n",
              "      <td>10</td>\n",
              "      <td>20</td>\n",
              "      <td>15</td>\n",
              "      <td>35</td>\n",
              "      <td>15</td>\n",
              "      <td>15</td>\n",
              "      <td>25</td>\n",
              "      <td>15</td>\n",
              "    </tr>\n",
              "    <tr>\n",
              "      <th>B2</th>\n",
              "      <td>15</td>\n",
              "      <td>20</td>\n",
              "      <td>10</td>\n",
              "      <td>10</td>\n",
              "      <td>15</td>\n",
              "      <td>15</td>\n",
              "      <td>15</td>\n",
              "      <td>10</td>\n",
              "    </tr>\n",
              "    <tr>\n",
              "      <th>NA</th>\n",
              "      <td>928</td>\n",
              "      <td>2180</td>\n",
              "      <td>945</td>\n",
              "      <td>278</td>\n",
              "      <td>1182</td>\n",
              "      <td>896</td>\n",
              "      <td>1329</td>\n",
              "      <td>1397</td>\n",
              "    </tr>\n",
              "    <tr>\n",
              "      <th>CAL</th>\n",
              "      <td>295</td>\n",
              "      <td>770</td>\n",
              "      <td>440</td>\n",
              "      <td>430</td>\n",
              "      <td>315</td>\n",
              "      <td>400</td>\n",
              "      <td>379</td>\n",
              "      <td>450</td>\n",
              "    </tr>\n",
              "  </tbody>\n",
              "</table>\n",
              "</div>"
            ],
            "text/plain": [
              "     BEEF   CHK  FISH  HAM   MCH  MTL   SPG   TUR\n",
              "A      60     8     8   40    15   70    25    60\n",
              "C      20     0    10   40    35   30    50    20\n",
              "B1     10    20    15   35    15   15    25    15\n",
              "B2     15    20    10   10    15   15    15    10\n",
              "NA    928  2180   945  278  1182  896  1329  1397\n",
              "CAL   295   770   440  430   315  400   379   450"
            ]
          },
          "execution_count": 224,
          "metadata": {},
          "output_type": "execute_result"
        }
      ],
      "source": [
        "amt_df"
      ]
    },
    {
      "cell_type": "markdown",
      "metadata": {
        "id": "tYA-jeGUxujz"
      },
      "source": [
        "## Load the data from the `pandas.DataFrame` objects"
      ]
    },
    {
      "cell_type": "code",
      "execution_count": 225,
      "metadata": {
        "id": "6CPg9YzCxuTT"
      },
      "outputs": [],
      "source": [
        "# 1. Send the data from \"amt_df\" to AMPL and initialize the indexing set \"FOOD\"\n",
        "ampl.set_data(food_df, \"FOOD\")\n",
        "# 2. Send the data from \"nutr_df\" to AMPL and initialize the indexing set \"NUTR\"\n",
        "ampl.set_data(nutr_df, \"NUTR\")\n",
        "# 3. Set the values for the parameter \"amt\" using \"amt_df\"\n",
        "ampl.get_parameter(\"amt\").set_values(amt_df)"
      ]
    },
    {
      "cell_type": "markdown",
      "metadata": {
        "id": "6NnyUc2qxzIM"
      },
      "source": [
        "# Solve with HiGHS"
      ]
    },
    {
      "cell_type": "code",
      "execution_count": 226,
      "metadata": {
        "colab": {
          "base_uri": "https://localhost:8080/"
        },
        "id": "11ojqR5JyVqB",
        "outputId": "7cd7ae32-e9b8-45f0-d232-82f23832f1c8"
      },
      "outputs": [
        {
          "name": "stdout",
          "output_type": "stream",
          "text": [
            "HiGHS 1.5.1: HiGHS 1.5.1: optimal solution; objective 119.9897589\n",
            "4 simplex iterations\n",
            "0 barrier iterations\n",
            "Objective is: 119.98975893599335\n"
          ]
        }
      ],
      "source": [
        "# Specify the solver to use (e.g., HiGHS)\n",
        "ampl.option[\"solver\"] = \"highs\"\n",
        "# Solve\n",
        "ampl.solve()\n",
        "# Stop if the model was not solved\n",
        "assert ampl.get_value(\"solve_result\") == \"solved\"\n",
        "# Get objective entity by AMPL name\n",
        "totalcost = ampl.get_objective('Total_Cost')\n",
        "# Print it\n",
        "print(\"Objective is:\", totalcost.value())"
      ]
    },
    {
      "cell_type": "markdown",
      "metadata": {
        "id": "rrwelmdwygur"
      },
      "source": [
        "## Reassign data for specific instances and resolve"
      ]
    },
    {
      "cell_type": "code",
      "execution_count": 227,
      "metadata": {
        "colab": {
          "base_uri": "https://localhost:8080/"
        },
        "id": "plPCDhdhjivI",
        "outputId": "9f77f712-afcb-4bea-eaee-b1f0471bdaff"
      },
      "outputs": [
        {
          "name": "stdout",
          "output_type": "stream",
          "text": [
            "Increased costs of beef and ham.\n",
            "HiGHS 1.5.1: HiGHS 1.5.1: optimal solution; objective 144.0120033\n",
            "0 simplex iterations\n",
            "0 barrier iterations\n",
            "New objective value: 144.01200332502077\n"
          ]
        }
      ],
      "source": [
        "# Reassign data - specific instances\n",
        "cost = ampl.get_parameter('cost')\n",
        "cost.set_values({'BEEF': 5.01, 'HAM': 4.55})\n",
        "print(\"Increased costs of beef and ham.\")\n",
        "\n",
        "# Resolve and display objective\n",
        "ampl.solve()\n",
        "# Stop if the model was not solved\n",
        "assert ampl.get_value(\"solve_result\") == \"solved\"\n",
        "print(\"New objective value:\", totalcost.value())"
      ]
    },
    {
      "cell_type": "markdown",
      "metadata": {
        "id": "-Mj4AP9Qy60F"
      },
      "source": [
        "### Reassign data for all instances and resolve"
      ]
    },
    {
      "cell_type": "code",
      "execution_count": 228,
      "metadata": {
        "colab": {
          "base_uri": "https://localhost:8080/"
        },
        "id": "j3j84nkVy6SD",
        "outputId": "ab75fc49-701a-4543-b7b6-51bdd606b775"
      },
      "outputs": [
        {
          "name": "stdout",
          "output_type": "stream",
          "text": [
            "Updated all costs.\n",
            "HiGHS 1.5.1: HiGHS 1.5.1: optimal solution; objective 164.10625\n",
            "4 simplex iterations\n",
            "0 barrier iterations\n",
            "New objective value: 164.10625\n"
          ]
        }
      ],
      "source": [
        "# Reassign data - all instances\n",
        "cost.set_values(\n",
        "    {\n",
        "        \"BEEF\": 3,\n",
        "        \"CHK\": 5,\n",
        "        \"FISH\": 5,\n",
        "        \"HAM\": 6,\n",
        "        \"MCH\": 1,\n",
        "        \"MTL\": 2,\n",
        "        \"SPG\": 5.01,\n",
        "        \"TUR\": 4.55,\n",
        "    }\n",
        ")\n",
        "print(\"Updated all costs.\")\n",
        "\n",
        "# Resolve and display objective\n",
        "ampl.solve()\n",
        "# Stop if the model was not solved\n",
        "assert ampl.get_value(\"solve_result\") == \"solved\"\n",
        "print(\"New objective value:\", totalcost.value())"
      ]
    },
    {
      "cell_type": "markdown",
      "metadata": {
        "id": "zmmo0fWhzFPi"
      },
      "source": [
        "## Get the values of the variable Buy in a pandas.DataFrame object"
      ]
    },
    {
      "cell_type": "code",
      "execution_count": 229,
      "metadata": {
        "colab": {
          "base_uri": "https://localhost:8080/",
          "height": 300
        },
        "id": "5BFTCHMyzEOg",
        "outputId": "3cb92934-9213-41ed-baa5-d05b84a1c54d"
      },
      "outputs": [
        {
          "data": {
            "text/html": [
              "<div>\n",
              "<style scoped>\n",
              "    .dataframe tbody tr th:only-of-type {\n",
              "        vertical-align: middle;\n",
              "    }\n",
              "\n",
              "    .dataframe tbody tr th {\n",
              "        vertical-align: top;\n",
              "    }\n",
              "\n",
              "    .dataframe thead th {\n",
              "        text-align: right;\n",
              "    }\n",
              "</style>\n",
              "<table border=\"1\" class=\"dataframe\">\n",
              "  <thead>\n",
              "    <tr style=\"text-align: right;\">\n",
              "      <th></th>\n",
              "      <th>Buy.val</th>\n",
              "    </tr>\n",
              "  </thead>\n",
              "  <tbody>\n",
              "    <tr>\n",
              "      <th>BEEF</th>\n",
              "      <td>10.000000</td>\n",
              "    </tr>\n",
              "    <tr>\n",
              "      <th>CHK</th>\n",
              "      <td>2.000000</td>\n",
              "    </tr>\n",
              "    <tr>\n",
              "      <th>FISH</th>\n",
              "      <td>2.000000</td>\n",
              "    </tr>\n",
              "    <tr>\n",
              "      <th>HAM</th>\n",
              "      <td>6.851974</td>\n",
              "    </tr>\n",
              "    <tr>\n",
              "      <th>MCH</th>\n",
              "      <td>10.000000</td>\n",
              "    </tr>\n",
              "    <tr>\n",
              "      <th>MTL</th>\n",
              "      <td>10.000000</td>\n",
              "    </tr>\n",
              "    <tr>\n",
              "      <th>SPG</th>\n",
              "      <td>6.765351</td>\n",
              "    </tr>\n",
              "    <tr>\n",
              "      <th>TUR</th>\n",
              "      <td>2.000000</td>\n",
              "    </tr>\n",
              "  </tbody>\n",
              "</table>\n",
              "</div>"
            ],
            "text/plain": [
              "        Buy.val\n",
              "BEEF  10.000000\n",
              "CHK    2.000000\n",
              "FISH   2.000000\n",
              "HAM    6.851974\n",
              "MCH   10.000000\n",
              "MTL   10.000000\n",
              "SPG    6.765351\n",
              "TUR    2.000000"
            ]
          },
          "execution_count": 229,
          "metadata": {},
          "output_type": "execute_result"
        }
      ],
      "source": [
        "df = ampl.get_variable('Buy').get_values().to_pandas()\n",
        "df"
      ]
    },
    {
      "cell_type": "markdown",
      "metadata": {
        "id": "E9p--jVyzH7D"
      },
      "source": [
        "## Get the values of an expression into a pandas.DataFrame object"
      ]
    },
    {
      "cell_type": "code",
      "execution_count": 230,
      "metadata": {
        "colab": {
          "base_uri": "https://localhost:8080/",
          "height": 300
        },
        "id": "X-Zj8cWsyzOD",
        "outputId": "6f9381fe-c329-4aab-91ed-69041e1d3170"
      },
      "outputs": [
        {
          "data": {
            "text/html": [
              "<div>\n",
              "<style scoped>\n",
              "    .dataframe tbody tr th:only-of-type {\n",
              "        vertical-align: middle;\n",
              "    }\n",
              "\n",
              "    .dataframe tbody tr th {\n",
              "        vertical-align: top;\n",
              "    }\n",
              "\n",
              "    .dataframe thead th {\n",
              "        text-align: right;\n",
              "    }\n",
              "</style>\n",
              "<table border=\"1\" class=\"dataframe\">\n",
              "  <thead>\n",
              "    <tr style=\"text-align: right;\">\n",
              "      <th></th>\n",
              "      <th>100*Buy[j]/(Buy[j].ub)</th>\n",
              "    </tr>\n",
              "  </thead>\n",
              "  <tbody>\n",
              "    <tr>\n",
              "      <th>BEEF</th>\n",
              "      <td>100.000000</td>\n",
              "    </tr>\n",
              "    <tr>\n",
              "      <th>CHK</th>\n",
              "      <td>20.000000</td>\n",
              "    </tr>\n",
              "    <tr>\n",
              "      <th>FISH</th>\n",
              "      <td>20.000000</td>\n",
              "    </tr>\n",
              "    <tr>\n",
              "      <th>HAM</th>\n",
              "      <td>68.519737</td>\n",
              "    </tr>\n",
              "    <tr>\n",
              "      <th>MCH</th>\n",
              "      <td>100.000000</td>\n",
              "    </tr>\n",
              "    <tr>\n",
              "      <th>MTL</th>\n",
              "      <td>100.000000</td>\n",
              "    </tr>\n",
              "    <tr>\n",
              "      <th>SPG</th>\n",
              "      <td>67.653509</td>\n",
              "    </tr>\n",
              "    <tr>\n",
              "      <th>TUR</th>\n",
              "      <td>20.000000</td>\n",
              "    </tr>\n",
              "  </tbody>\n",
              "</table>\n",
              "</div>"
            ],
            "text/plain": [
              "      100*Buy[j]/(Buy[j].ub)\n",
              "BEEF              100.000000\n",
              "CHK                20.000000\n",
              "FISH               20.000000\n",
              "HAM                68.519737\n",
              "MCH               100.000000\n",
              "MTL               100.000000\n",
              "SPG                67.653509\n",
              "TUR                20.000000"
            ]
          },
          "execution_count": 230,
          "metadata": {},
          "output_type": "execute_result"
        }
      ],
      "source": [
        "df = ampl.get_data('{j in FOOD} 100*Buy[j]/Buy[j].ub').to_pandas()\n",
        "df"
      ]
    },
    {
      "cell_type": "markdown",
      "metadata": {},
      "source": [
        "The n+1 Bernstein basis polynomials of degree $n$ are defined as \n",
        "$$ b_{v,n}(x) = {n\\choose v} x^v(1-x)^{n-v} $$\n",
        "for $v=0, \\cdots, n$.\n",
        "\n",
        "A linear combinations of Bernstein basis polynomoials\n",
        "$$ B_n(x) = \\sum_{v=0}^n\\beta_v b_{v,n}(x)$$\n",
        "is called a Bernstein polynomial."
      ]
    },
    {
      "cell_type": "code",
      "execution_count": 231,
      "metadata": {},
      "outputs": [],
      "source": [
        "# Define some of the functions that we need\n",
        "from math import comb\n",
        "\n",
        "def bernstein_basis(n, v, x):\n",
        "    \"\"\"Bernstein polynomial basis of degree n and index v at point x\"\"\"\n",
        "    return comb(n, v) * x ** v * (1 - x) ** (n - v)"
      ]
    },
    {
      "cell_type": "code",
      "execution_count": 232,
      "metadata": {},
      "outputs": [],
      "source": [
        "# Weights for target\n",
        "def w_target_late(d, u, u_lo, u_hi):\n",
        "    \"\"\"Target weight w(d,u): LATE(u_lo, u_hi)\n",
        "    Args:\n",
        "        d (np.int): value of treatment\n",
        "        u (np.int): latent probability to get treatment\n",
        "        u_lo (np.float): lower bound of the LATE\n",
        "        u_hi (np.float): upper bound of the LATE\n",
        "    \"\"\"\n",
        "    # Return 1 divided by u_hi - u_lo if u_lo < u < u_hi, 0 otherwise\n",
        "    if u_lo < u < u_hi: w = 1 / (u_hi - u_lo)\n",
        "    else: w = 0\n",
        "\n",
        "    if d == 1: return w\n",
        "    else: return -w"
      ]
    },
    {
      "cell_type": "code",
      "execution_count": 233,
      "metadata": {},
      "outputs": [],
      "source": [
        "import scipy.integrate as integrate\n",
        "\n",
        "def gamma_star0_late(m0, weight, u_lo, u_hi):\n",
        "    \"\"\"Gamma*0: the first term of the gamma* function for binary IV, no covariates\n",
        "    Args:\n",
        "        m0 (function): MTE function for d = 0\n",
        "        weight (function): weights corresponding to target d = 0\n",
        "    \"\"\"\n",
        "    def func(u): return m0(u) * weight(0, u, u_lo, u_hi)\n",
        "    return integrate.quad(func, 0, 1)[0]\n",
        "\n",
        "def gamma_star1_late(m1, weight, u_lo, u_hi):\n",
        "    \"\"\"Gamma*0: the first term of the gamma* function for binary IV, no covariates\n",
        "    Args:\n",
        "        m1 (function): MTE function for d = 1\n",
        "        weight (function): weights corresponding to target d = 1\n",
        "    \"\"\"\n",
        "    def func(u): return m1(u) * weight(1, u, u_lo, u_hi)\n",
        "    return integrate.quad(func, 0, 1)[0]"
      ]
    },
    {
      "cell_type": "code",
      "execution_count": 234,
      "metadata": {},
      "outputs": [],
      "source": [
        "# Compute the contributions of parameters for gamma_star(basis_function)\n",
        "def bern_2_0(u): return bernstein_basis(2, 0, u)\n",
        "def bern_2_1(u): return bernstein_basis(2, 1, u)\n",
        "def bern_2_2(u): return bernstein_basis(2, 2, u)\n"
      ]
    },
    {
      "cell_type": "code",
      "execution_count": 235,
      "metadata": {},
      "outputs": [
        {
          "data": {
            "text/plain": [
              "-0.27999999999985575"
            ]
          },
          "execution_count": 235,
          "metadata": {},
          "output_type": "execute_result"
        }
      ],
      "source": [
        "gamma_star0_late(bern_2_0, w_target_late, u_lo=0.2, u_hi=0.8)"
      ]
    },
    {
      "cell_type": "code",
      "execution_count": 236,
      "metadata": {},
      "outputs": [
        {
          "data": {
            "text/plain": [
              "0.27999999999985575"
            ]
          },
          "execution_count": 236,
          "metadata": {},
          "output_type": "execute_result"
        }
      ],
      "source": [
        "gamma_star1_late(bern_2_0, w_target_late, u_lo=0.2, u_hi=0.8)"
      ]
    },
    {
      "cell_type": "code",
      "execution_count": 237,
      "metadata": {},
      "outputs": [],
      "source": [
        "# Compute the LATEs from the example\n",
        "def m0_dgp(u): \n",
        "    return 0.6 * bern_2_0(u) + 0.4 * bern_2_1(u) + 0.3 * bern_2_2(u)\n",
        "\n",
        "def m1_dgp(u):\n",
        "    return 0.75 * bern_2_0(u) + 0.5 * bern_2_1(u) + 0.25 * bern_2_2(u)"
      ]
    },
    {
      "cell_type": "code",
      "execution_count": 238,
      "metadata": {},
      "outputs": [
        {
          "data": {
            "image/png": "[encoded data removed]",
            "text/plain": [
              "<Figure size 640x480 with 1 Axes>"
            ]
          },
          "metadata": {},
          "output_type": "display_data"
        }
      ],
      "source": [
        "# Plot m0_dgp and m1_dgp over the unit interval\n",
        "import matplotlib.pyplot as plt\n",
        "u = np.linspace(0, 1, 100)\n",
        "plt.plot(u, m0_dgp(u), label='m0_dgp')\n",
        "plt.plot(u, m1_dgp(u), label='m1_dgp')\n",
        "plt.grid()\n",
        "plt.legend()\n",
        "plt.xlim(0, 1)\n",
        "plt.ylim(0, 1)\n",
        "plt.show()"
      ]
    },
    {
      "cell_type": "code",
      "execution_count": 239,
      "metadata": {},
      "outputs": [
        {
          "data": {
            "text/plain": [
              "0.04591666666666566"
            ]
          },
          "execution_count": 239,
          "metadata": {},
          "output_type": "execute_result"
        }
      ],
      "source": [
        "# Compute implied LATE\n",
        "a = integrate.quad(lambda u: m1_dgp(u) * w_target_late(1, u, 0.35, 0.9), 0, 1)[0]\n",
        "b = integrate.quad(lambda u: m0_dgp(u) * w_target_late(0, u, 0.35, 0.9), 0, 1)[0]\n",
        "a + b"
      ]
    },
    {
      "cell_type": "markdown",
      "metadata": {},
      "source": [
        "# Diet Model\n",
        "\n",
        "Problem: minimize linear mapping over parameters $(\\theta_0, \\theta_1)$ subject to the constraint that parameters also give identified parameters.\n",
        "\n",
        "Sets:\n",
        "- `THETA`: Parameter space.\n",
        "- `THETA0`: parameter space of the model for $m_0$\n",
        "- `THETA1`: parameter space of the model for $m_1$\n",
        "- `IDENTIF`: set of identified IV-like estimands.\n",
        "\n",
        "Parameters:\n",
        "- `iv {IDENTIF}`: value of identified IV parameter(s).\n",
        "- `gamma {THETA}`: $\\Gamma^*_{dk}(b_{dk})$ for $d\\in\\{0,1\\}$ and $k=1,\\cdots,K_d$ - contribution to objective by each parameter.\n",
        "\n",
        "Variables:\n",
        "- `t0 {THETA0}`: value of parameters for $m_0$\n",
        "- `t1 {THETA1}`: value of parameters for $m_1$\n",
        "\n",
        "Objective:\n",
        "- `beta_star`: linear map giving $\\overline{\\beta}_{fd}^*$: sum over terms in `Gamma`.\n",
        "\n",
        "Constraints:\n",
        "- `iv {IV_identified}`: ensure that parameters result in identified IV-like estimands.\n",
        "\n",
        "The problem is then modeled as follows:"
      ]
    },
    {
      "cell_type": "code",
      "execution_count": 240,
      "metadata": {},
      "outputs": [],
      "source": [
        "# Compute the contribution for K_0 = 3 and K_1 = 3\n",
        "gamma_df = pd.DataFrame(\n",
        "    [\n",
        "        (\"theta_01\", gamma_star0_late(bern_2_0, w_target_late, u_lo=0.35, u_hi=0.9)),\n",
        "        (\"theta_02\", gamma_star0_late(bern_2_1, w_target_late, u_lo=0.35, u_hi=0.9)),\n",
        "        (\"theta_03\", gamma_star0_late(bern_2_2, w_target_late, u_lo=0.35, u_hi=0.9)),\n",
        "        (\"theta_11\", gamma_star1_late(bern_2_0, w_target_late, u_lo=0.35, u_hi=0.9)),\n",
        "        (\"theta_12\", gamma_star1_late(bern_2_1, w_target_late, u_lo=0.35, u_hi=0.9)),\n",
        "        (\"theta_13\", gamma_star1_late(bern_2_2, w_target_late, u_lo=0.35, u_hi=0.9)),\n",
        "    ],\n",
        "    columns=[\"THETA\", \"gamma\"],\n",
        ").set_index(\"THETA\")\n",
        "\n",
        "# Compute the contribution for K_0 = 3 and K_1 = 3\n",
        "gamma_ident_df = pd.DataFrame(\n",
        "    [\n",
        "        (\"theta_01\", gamma_star0_late(bern_2_0, w_target_late, u_lo=0.35, u_hi=0.6)),\n",
        "        (\"theta_02\", gamma_star0_late(bern_2_1, w_target_late, u_lo=0.35, u_hi=0.6)),\n",
        "        (\"theta_03\", gamma_star0_late(bern_2_2, w_target_late, u_lo=0.35, u_hi=0.6)),\n",
        "        (\"theta_11\", gamma_star1_late(bern_2_0, w_target_late, u_lo=0.35, u_hi=0.6)),\n",
        "        (\"theta_12\", gamma_star1_late(bern_2_1, w_target_late, u_lo=0.35, u_hi=0.6)),\n",
        "        (\"theta_13\", gamma_star1_late(bern_2_2, w_target_late, u_lo=0.35, u_hi=0.6)),\n",
        "    ],\n",
        "    columns=[\"THETA\", \"gamma_ident\"],\n",
        ").set_index(\"THETA\")\n",
        "\n",
        "# Join gamma_df and gamma_ident_df\n",
        "gamma_df = gamma_df.join(gamma_ident_df)\n",
        "\n",
        "a = integrate.quad(lambda u: m1_dgp(u) \n",
        "    * w_target_late(1, u, 0.35, 0.6), 0, 1)[0]\n",
        "\n",
        "b = integrate.quad(lambda u: m0_dgp(u) \n",
        "    * w_target_late(0, u, 0.35, 0.6), 0, 1)[0]\n",
        "\n",
        "iv_df = pd.DataFrame(\n",
        "    [\n",
        "        (\"iv_1\", a+b)\n",
        "    ],\n",
        "    columns = [\"IDENTIF\", \"iv\"]\n",
        ").set_index(\"IDENTIF\")\n"
      ]
    },
    {
      "cell_type": "code",
      "execution_count": 241,
      "metadata": {},
      "outputs": [
        {
          "data": {
            "text/html": [
              "<div>\n",
              "<style scoped>\n",
              "    .dataframe tbody tr th:only-of-type {\n",
              "        vertical-align: middle;\n",
              "    }\n",
              "\n",
              "    .dataframe tbody tr th {\n",
              "        vertical-align: top;\n",
              "    }\n",
              "\n",
              "    .dataframe thead th {\n",
              "        text-align: right;\n",
              "    }\n",
              "</style>\n",
              "<table border=\"1\" class=\"dataframe\">\n",
              "  <thead>\n",
              "    <tr style=\"text-align: right;\">\n",
              "      <th></th>\n",
              "      <th>iv</th>\n",
              "    </tr>\n",
              "    <tr>\n",
              "      <th>IDENTIF</th>\n",
              "      <th></th>\n",
              "    </tr>\n",
              "  </thead>\n",
              "  <tbody>\n",
              "    <tr>\n",
              "      <th>iv_1</th>\n",
              "      <td>0.079417</td>\n",
              "    </tr>\n",
              "  </tbody>\n",
              "</table>\n",
              "</div>"
            ],
            "text/plain": [
              "               iv\n",
              "IDENTIF          \n",
              "iv_1     0.079417"
            ]
          },
          "execution_count": 241,
          "metadata": {},
          "output_type": "execute_result"
        }
      ],
      "source": [
        "iv_df"
      ]
    },
    {
      "cell_type": "code",
      "execution_count": 242,
      "metadata": {},
      "outputs": [],
      "source": [
        "%%ampl_eval\n",
        "reset;\n",
        "set THETA;\n",
        "set IDENTIF;\n",
        "\n",
        "param gamma {THETA};\n",
        "param gamma_ident {THETA};\n",
        "param iv {IDENTIF};\n",
        "\n",
        "var Theta_val {j in THETA} >= 0, <= 1;\n",
        "\n",
        "maximize beta: sum {j in THETA} gamma[j] * Theta_val[j];\n",
        "\n",
        "subject to Identified {i in IDENTIF}:\n",
        "sum {j in THETA} gamma_ident[j] * Theta_val[j] == iv[i];\n"
      ]
    },
    {
      "cell_type": "code",
      "execution_count": 243,
      "metadata": {},
      "outputs": [],
      "source": [
        "ampl.set_data(gamma_df, \"THETA\")\n",
        "ampl.set_data(iv_df, \"IDENTIF\")"
      ]
    },
    {
      "cell_type": "code",
      "execution_count": 244,
      "metadata": {},
      "outputs": [
        {
          "name": "stdout",
          "output_type": "stream",
          "text": [
            "HiGHS 1.5.1: HiGHS 1.5.1: optimal solution; objective 0.3608654721\n",
            "0 simplex iterations\n",
            "0 barrier iterations\n",
            "Objective is: 0.3608654721269454\n",
            "argmax:           Theta_val.val\n",
            "theta_01       1.000000\n",
            "theta_02       0.000000\n",
            "theta_03       0.000000\n",
            "theta_11       0.000000\n",
            "theta_12       0.265017\n",
            "theta_13       1.000000\n"
          ]
        }
      ],
      "source": [
        "# Specify the solver to use (e.g., HiGHS)\n",
        "ampl.option[\"solver\"] = \"highs\"\n",
        "# Solve\n",
        "ampl.solve()\n",
        "\n",
        "# Stop if the model was not solved\n",
        "assert ampl.get_value(\"solve_result\") == \"solved\"\n",
        "# Get objective entity by AMPL name\n",
        "beta_hi = ampl.get_objective('beta')\n",
        "# Print it\n",
        "print(\"Objective is:\", beta_hi.value())\n",
        "argmax = ampl.get_variable('Theta_val').get_values().to_pandas()\n",
        "print(\"argmax:\", argmax)"
      ]
    },
    {
      "cell_type": "code",
      "execution_count": 245,
      "metadata": {},
      "outputs": [],
      "source": [
        "# Code up constant splines\n",
        "def cs_basis(u_lo, u_hi, u):\n",
        "    \"\"\"Constant spline basis function (no covariates)\"\"\"\n",
        "    if u_lo <= u < u_hi: return 1\n",
        "    else: return 0\n",
        "\n",
        "cs_0_35 = lambda u: cs_basis(0, 0.35, u)\n",
        "cs_35_60 = lambda u: cs_basis(0.35, 0.60, u)\n",
        "cs_60_90 = lambda u: cs_basis(0.60, 0.90, u)\n",
        "cs_90_1 = lambda u: cs_basis(0.90, 1, u)"
      ]
    },
    {
      "cell_type": "code",
      "execution_count": 246,
      "metadata": {},
      "outputs": [
        {
          "name": "stderr",
          "output_type": "stream",
          "text": [
            "C:\\Users\\budde\\AppData\\Local\\Temp\\ipykernel_8704\\3842910436.py:10: IntegrationWarning: The maximum number of subdivisions (50) has been achieved.\n",
            "  If increasing the limit yields no improvement it is advised to analyze \n",
            "  the integrand in order to determine the difficulties.  If the position of a \n",
            "  local difficulty can be determined (singularity, discontinuity) one will \n",
            "  probably gain from splitting up the interval and calling the integrator \n",
            "  on the subranges.  Perhaps a special-purpose integrator should be used.\n",
            "  return integrate.quad(func, 0, 1)[0]\n",
            "C:\\Users\\budde\\AppData\\Local\\Temp\\ipykernel_8704\\3842910436.py:19: IntegrationWarning: The maximum number of subdivisions (50) has been achieved.\n",
            "  If increasing the limit yields no improvement it is advised to analyze \n",
            "  the integrand in order to determine the difficulties.  If the position of a \n",
            "  local difficulty can be determined (singularity, discontinuity) one will \n",
            "  probably gain from splitting up the interval and calling the integrator \n",
            "  on the subranges.  Perhaps a special-purpose integrator should be used.\n",
            "  return integrate.quad(func, 0, 1)[0]\n",
            "C:\\Users\\budde\\AppData\\Local\\Temp\\ipykernel_8704\\3842910436.py:10: IntegrationWarning: The maximum number of subdivisions (50) has been achieved.\n",
            "  If increasing the limit yields no improvement it is advised to analyze \n",
            "  the integrand in order to determine the difficulties.  If the position of a \n",
            "  local difficulty can be determined (singularity, discontinuity) one will \n",
            "  probably gain from splitting up the interval and calling the integrator \n",
            "  on the subranges.  Perhaps a special-purpose integrator should be used.\n",
            "  return integrate.quad(func, 0, 1)[0]\n",
            "C:\\Users\\budde\\AppData\\Local\\Temp\\ipykernel_8704\\3842910436.py:19: IntegrationWarning: The maximum number of subdivisions (50) has been achieved.\n",
            "  If increasing the limit yields no improvement it is advised to analyze \n",
            "  the integrand in order to determine the difficulties.  If the position of a \n",
            "  local difficulty can be determined (singularity, discontinuity) one will \n",
            "  probably gain from splitting up the interval and calling the integrator \n",
            "  on the subranges.  Perhaps a special-purpose integrator should be used.\n",
            "  return integrate.quad(func, 0, 1)[0]\n"
          ]
        },
        {
          "data": {
            "text/plain": [
              "(              gamma  gamma_ident\n",
              " THETA                           \n",
              " theta_0_1  0.000000          0.0\n",
              " theta_0_2 -0.454545         -1.0\n",
              " theta_0_3 -0.545455          0.0\n",
              " theta_0_4  0.000000          0.0\n",
              " theta_1_1  0.000000          0.0\n",
              " theta_1_2  0.454545          1.0\n",
              " theta_1_3  0.545455          0.0\n",
              " theta_1_4  0.000000          0.0,\n",
              "                iv\n",
              " IDENTIF          \n",
              " iv_1     0.079417)"
            ]
          },
          "execution_count": 246,
          "metadata": {},
          "output_type": "execute_result"
        }
      ],
      "source": [
        "# Repeat for constant spline basis\n",
        "gamma_df = pd.DataFrame(\n",
        "    [\n",
        "        (\"theta_0_1\", gamma_star0_late(cs_0_35, w_target_late, u_lo=0.35, u_hi=0.9)),\n",
        "        (\"theta_0_2\", gamma_star0_late(cs_35_60, w_target_late, u_lo=0.35, u_hi=0.9)),\n",
        "        (\"theta_0_3\", gamma_star0_late(cs_60_90, w_target_late, u_lo=0.35, u_hi=0.9)),\n",
        "        (\"theta_0_4\", gamma_star0_late(cs_90_1, w_target_late, u_lo=0.35, u_hi=0.9)),\n",
        "        (\"theta_1_1\", gamma_star1_late(cs_0_35, w_target_late, u_lo=0.35, u_hi=0.9)),\n",
        "        (\"theta_1_2\", gamma_star1_late(cs_35_60, w_target_late, u_lo=0.35, u_hi=0.9)),\n",
        "        (\"theta_1_3\", gamma_star1_late(cs_60_90, w_target_late, u_lo=0.35, u_hi=0.9)),\n",
        "        (\"theta_1_4\", gamma_star1_late(cs_90_1, w_target_late, u_lo=0.35, u_hi=0.9)),\n",
        "    ],\n",
        "    columns=[\"THETA\", \"gamma\"],\n",
        ").set_index(\"THETA\")\n",
        "\n",
        "# Compute the contribution for K_0 = 3 and K_1 = 3\n",
        "gamma_ident_df = pd.DataFrame(\n",
        "    [\n",
        "        (\"theta_0_1\", gamma_star0_late(cs_0_35, w_target_late, u_lo=0.35, u_hi=0.6)),\n",
        "        (\"theta_0_2\", gamma_star0_late(cs_35_60, w_target_late, u_lo=0.35, u_hi=0.6)),\n",
        "        (\"theta_0_3\", gamma_star0_late(cs_60_90, w_target_late, u_lo=0.35, u_hi=0.6)),\n",
        "        (\"theta_0_4\", gamma_star0_late(cs_90_1, w_target_late, u_lo=0.35, u_hi=0.6)),\n",
        "\n",
        "        (\"theta_1_1\", gamma_star1_late(cs_0_35, w_target_late, u_lo=0.35, u_hi=0.6)),\n",
        "        (\"theta_1_2\", gamma_star1_late(cs_35_60, w_target_late, u_lo=0.35, u_hi=0.6)),\n",
        "        (\"theta_1_3\", gamma_star1_late(cs_60_90, w_target_late, u_lo=0.35, u_hi=0.6)),\n",
        "        (\"theta_1_4\", gamma_star1_late(cs_90_1, w_target_late, u_lo=0.35, u_hi=0.6)),\n",
        "    ],\n",
        "    columns=[\"THETA\", \"gamma_ident\"],\n",
        ").set_index(\"THETA\")\n",
        "\n",
        "\n",
        "\n",
        "\n",
        "# Join gamma_df and gamma_ident_df\n",
        "gamma_df = gamma_df.join(gamma_ident_df)\n",
        "\n",
        "a = integrate.quad(lambda u: m1_dgp(u) \n",
        "    * w_target_late(1, u, 0.35, 0.6), 0, 1)[0]\n",
        "\n",
        "b = integrate.quad(lambda u: m0_dgp(u) \n",
        "    * w_target_late(0, u, 0.35, 0.6), 0, 1)[0]\n",
        "\n",
        "iv_df = pd.DataFrame(\n",
        "    [\n",
        "        (\"iv_1\", a+b)\n",
        "    ],\n",
        "    columns = [\"IDENTIF\", \"iv\"]\n",
        ").set_index(\"IDENTIF\")\n",
        "\n",
        "gamma_df, iv_df\n"
      ]
    },
    {
      "cell_type": "code",
      "execution_count": 247,
      "metadata": {},
      "outputs": [],
      "source": [
        "\n",
        "%%ampl_eval\n",
        "reset;\n",
        "set THETA;\n",
        "set IDENTIF;\n",
        "\n",
        "param gamma {THETA};\n",
        "param gamma_ident {THETA};\n",
        "param iv {IDENTIF};\n",
        "\n",
        "var Theta_val {j in THETA} >= 0, <= 1;\n",
        "\n",
        "maximize beta: sum {j in THETA} gamma[j] * Theta_val[j];\n",
        "\n",
        "subject to Identified {i in IDENTIF}:\n",
        "sum {j in THETA} gamma_ident[j] * Theta_val[j] == iv[i];\n"
      ]
    },
    {
      "cell_type": "code",
      "execution_count": 248,
      "metadata": {},
      "outputs": [
        {
          "name": "stdout",
          "output_type": "stream",
          "text": [
            "HiGHS 1.5.1: HiGHS 1.5.1: optimal solution; objective 0.5815530303\n",
            "0 simplex iterations\n",
            "0 barrier iterations\n",
            "Objective is: 0.5815530303030305\n",
            "argmax:            Theta_val.val\n",
            "theta_0_1       0.000000\n",
            "theta_0_2       0.000000\n",
            "theta_0_3       0.000000\n",
            "theta_0_4       0.000000\n",
            "theta_1_1       0.000000\n",
            "theta_1_2       0.079417\n",
            "theta_1_3       1.000000\n",
            "theta_1_4       0.000000\n"
          ]
        }
      ],
      "source": [
        "ampl.set_data(gamma_df, \"THETA\")\n",
        "ampl.set_data(iv_df, \"IDENTIF\")\n",
        "\n",
        "# Specify the solver to use (e.g., HiGHS)\n",
        "ampl.option[\"solver\"] = \"highs\"\n",
        "# Solve\n",
        "ampl.solve()\n",
        "\n",
        "# Stop if the model was not solved\n",
        "assert ampl.get_value(\"solve_result\") == \"solved\"\n",
        "# Get objective entity by AMPL name\n",
        "beta_hi = ampl.get_objective('beta')\n",
        "# Print it\n",
        "print(\"Objective is:\", beta_hi.value())\n",
        "argmax = ampl.get_variable('Theta_val').get_values().to_pandas()\n",
        "print(\"argmax:\", argmax)"
      ]
    },
    {
      "cell_type": "code",
      "execution_count": 249,
      "metadata": {},
      "outputs": [],
      "source": [
        "# Weights for IV-like estimands\n",
        "def s_iv_slope(z, exp_z, cov_d_z):\n",
        "    \"\"\"IV-like specification s(d,z): IV slope\n",
        "    Args:\n",
        "        z (np.int): value of the instrument\n",
        "        exp_z (np.float): expected value of the instrument\n",
        "        cov_d_z (np.float): covariance between treatment and instrument\n",
        "    \"\"\"\n",
        "    return (z - exp_z) / cov_d_z"
      ]
    },
    {
      "cell_type": "code",
      "execution_count": 250,
      "metadata": {},
      "outputs": [],
      "source": [
        "def compute_iv_slope(m1, m0):\n",
        "    \"\"\"IV-like specification gamma_0(d,z): IV slope\n",
        "    Args:\n",
        "        d (np.int): value of treatment\n",
        "        z (np.int): value of the instrument\n",
        "        exp_z (np.float): expected value of the instrument\n",
        "        cov_d_z (np.float): covariance between treatment and instrument\n",
        "\n",
        "        z takes 3 values: 0, 1, 2\n",
        "        P(z=k): 0.5, 0.4, 0.1\n",
        "        P(d=1|z=k): 0.35, 0.6, 0.7\n",
        "    \"\"\"\n",
        "\n",
        "    exp_z = 0 * 0.5 + 1 * 0.4 + 2 * 0.1\n",
        "    ed = 0.35 * 0.5 + 0.6 * 0.4 + 0.7 * 0.1\n",
        "    ez = 0.5 * 0 + 0.4 * 1 + 0.1 * 2\n",
        "    edz = 0.6 * 0.4 + 2 * 0.7 * 0.1    \n",
        "    \n",
        "    cov_d_z = edz - ed * ez\n",
        "\n",
        "    def check(u): return 1 if u >= 0.35 else 0\n",
        "    def weight(u): return s_iv_slope(1, 0, exp_z, cov_d_z) * check(u)\n",
        "    a0 = integrate.quad(lambda u: m1(u) * weight(u), 0, 1)[0]\n",
        "\n",
        "    def check(u): return 1 if u >= 0.6 else 0\n",
        "    def weight(u): return s_iv_slope(1, 1, exp_z, cov_d_z) * check(u)\n",
        "    a1 = integrate.quad(lambda u: m1(u) * weight(u), 0, 1)[0]\n",
        "\n",
        "    def check(u): return 1 if u >= 0.7 else 0\n",
        "    def weight(u): return s_iv_slope(1, 2, exp_z, cov_d_z) * check(u)\n",
        "    a2 = integrate.quad(lambda u: m1(u) * weight(u), 0, 1)[0]\n",
        "\n",
        "    # Repeat for d = 0\n",
        "    def check(u): return 1 if u < 0.35 else 0\n",
        "    def weight(u): return s_iv_slope(0, 0, exp_z, cov_d_z) * check(u)\n",
        "    b0 = integrate.quad(lambda u: m0(u) * weight(u), 0, 1)[0]\n",
        "\n",
        "    def check(u): return 1 if u < 0.6 else 0\n",
        "    def weight(u): return s_iv_slope(0, 1, exp_z, cov_d_z) * check(u)\n",
        "    b1 = integrate.quad(lambda u: m0(u) * weight(u), 0, 1)[0]\n",
        "\n",
        "    def check(u): return 1 if u < 0.7 else 0\n",
        "    def weight(u): return s_iv_slope(0, 2, exp_z, cov_d_z) * check(u)\n",
        "    b2 = integrate.quad(lambda u: m0(u) * weight(u), 0, 1)[0]\n",
        "\n",
        "    return a0, a1, a2, b0, b1, b2\n",
        "    # return 0.5 * (a0 + b0) + 0.4 * (a1 + b1) + 0.1 * (a2 + b2)"
      ]
    },
    {
      "cell_type": "code",
      "execution_count": 251,
      "metadata": {},
      "outputs": [],
      "source": [
        "def gamma_0_iv_slope(m0, weight, supp_z, f_z, prop_z):\n",
        "\n",
        "    \"\"\"\n",
        "    Args:\n",
        "        m0 (function): MTE function for d = 0\n",
        "        weight (function): weights corresponding to IV slope parameter\n",
        "        supp_z (np.array): support of z\n",
        "        f_z (np.array): density of z\n",
        "        prop_z (np.array): propensity score given z\n",
        "    \n",
        "    Returns:\n",
        "        val (float): value of gamma_0 at m0\n",
        "    \"\"\"\n",
        "    # Compute expected value of z\n",
        "    ez = np.sum(supp_z * f_z)\n",
        "    ed = np.sum(prop_z * f_z)\n",
        "    edz = np.sum(supp_z * prop_z * f_z)\n",
        "\n",
        "    # Compute covariance between d and z\n",
        "    cov_dz = edz - ed * ez\n",
        "\n",
        "    # Define function to be integrated over\n",
        "    def func(u, z): \n",
        "        if prop_z[np.where(supp_z == z)[0][0]] < u: return m0(u) * weight(z, ez, cov_dz)\n",
        "        else : return 0\n",
        "\n",
        "    # Integrate func over u in [0,1] for every z in supp_z\n",
        "    return np.sum([integrate.quad(func, 0, 1, args=(z,))[0] * f_z[i] \n",
        "         for i, z in enumerate(supp_z)])\n",
        "\n",
        "def gamma_1_iv_slope(m1, weight, supp_z, f_z, prop_z):\n",
        "\n",
        "    \"\"\"\n",
        "    Args:\n",
        "        m1 (function): MTE function for d = 1\n",
        "        weight (function): weights corresponding to IV slope parameter\n",
        "        supp_z (np.array): support of z\n",
        "        f_z (np.array): density of z\n",
        "        prop_z (np.array): propensity score given z\n",
        "    \n",
        "    Returns:\n",
        "        val (float): value of gamma_0 at m1\n",
        "    \"\"\"\n",
        "    # Compute expected value of z\n",
        "    ez = np.sum(supp_z * f_z)\n",
        "    ed = np.sum(prop_z * f_z)\n",
        "    edz = np.sum(supp_z * prop_z * f_z)\n",
        "\n",
        "    # Compute covariance between d and z\n",
        "    cov_dz = edz - ed * ez\n",
        "\n",
        "    # Define function to be integrated over\n",
        "    def func(u, z): \n",
        "        if prop_z[np.where(supp_z == z)[0][0]] > u: return m1(u) * weight(z, ez, cov_dz)\n",
        "        else : return 0\n",
        "\n",
        "    # Integrate func over u in [0,1] for every z in supp_z\n",
        "    return np.sum([integrate.quad(func, 0, 1, args=(z,))[0] * f_z[i] \n",
        "         for i, z in enumerate(supp_z)])"
      ]
    },
    {
      "cell_type": "code",
      "execution_count": 252,
      "metadata": {},
      "outputs": [
        {
          "data": {
            "text/plain": [
              "(-0.4251001872659388, 0.49873595505617896, 0.07363576779024017)"
            ]
          },
          "execution_count": 252,
          "metadata": {},
          "output_type": "execute_result"
        }
      ],
      "source": [
        "# get index of elements in supp_z which are equal to 0\n",
        "supp_z = np.array([0,1,2])\n",
        "f_z = np.array([0.5, 0.4, 0.1])\n",
        "prop_z = np.array([0.35, 0.6, 0.7])\n",
        "\n",
        "a, b = gamma_0_iv_slope(m0_dgp, s_iv_slope, supp_z, f_z, prop_z), gamma_1_iv_slope(m1_dgp, s_iv_slope, supp_z, f_z, prop_z)\n",
        "a, b, a+b"
      ]
    },
    {
      "cell_type": "code",
      "execution_count": 273,
      "metadata": {},
      "outputs": [
        {
          "name": "stderr",
          "output_type": "stream",
          "text": [
            "C:\\Users\\budde\\AppData\\Local\\Temp\\ipykernel_8704\\3842910436.py:10: IntegrationWarning: The maximum number of subdivisions (50) has been achieved.\n",
            "  If increasing the limit yields no improvement it is advised to analyze \n",
            "  the integrand in order to determine the difficulties.  If the position of a \n",
            "  local difficulty can be determined (singularity, discontinuity) one will \n",
            "  probably gain from splitting up the interval and calling the integrator \n",
            "  on the subranges.  Perhaps a special-purpose integrator should be used.\n",
            "  return integrate.quad(func, 0, 1)[0]\n",
            "C:\\Users\\budde\\AppData\\Local\\Temp\\ipykernel_8704\\3842910436.py:19: IntegrationWarning: The maximum number of subdivisions (50) has been achieved.\n",
            "  If increasing the limit yields no improvement it is advised to analyze \n",
            "  the integrand in order to determine the difficulties.  If the position of a \n",
            "  local difficulty can be determined (singularity, discontinuity) one will \n",
            "  probably gain from splitting up the interval and calling the integrator \n",
            "  on the subranges.  Perhaps a special-purpose integrator should be used.\n",
            "  return integrate.quad(func, 0, 1)[0]\n",
            "C:\\Users\\budde\\AppData\\Local\\Temp\\ipykernel_8704\\1355938745.py:28: IntegrationWarning: The maximum number of subdivisions (50) has been achieved.\n",
            "  If increasing the limit yields no improvement it is advised to analyze \n",
            "  the integrand in order to determine the difficulties.  If the position of a \n",
            "  local difficulty can be determined (singularity, discontinuity) one will \n",
            "  probably gain from splitting up the interval and calling the integrator \n",
            "  on the subranges.  Perhaps a special-purpose integrator should be used.\n",
            "  return np.sum([integrate.quad(func, 0, 1, args=(z,))[0] * f_z[i]\n",
            "C:\\Users\\budde\\AppData\\Local\\Temp\\ipykernel_8704\\1355938745.py:58: IntegrationWarning: The maximum number of subdivisions (50) has been achieved.\n",
            "  If increasing the limit yields no improvement it is advised to analyze \n",
            "  the integrand in order to determine the difficulties.  If the position of a \n",
            "  local difficulty can be determined (singularity, discontinuity) one will \n",
            "  probably gain from splitting up the interval and calling the integrator \n",
            "  on the subranges.  Perhaps a special-purpose integrator should be used.\n",
            "  return np.sum([integrate.quad(func, 0, 1, args=(z,))[0] * f_z[i]\n"
          ]
        },
        {
          "data": {
            "text/plain": [
              "(              gamma   gamma_ident\n",
              " THETA                            \n",
              " theta_0_1  0.000000  0.000000e+00\n",
              " theta_0_2 -0.454545 -8.426966e-01\n",
              " theta_0_3 -0.545455 -1.573034e-01\n",
              " theta_0_4  0.000000  2.775558e-17\n",
              " theta_1_1  0.000000 -3.330669e-16\n",
              " theta_1_2  0.454545  8.426966e-01\n",
              " theta_1_3  0.545455  1.573034e-01\n",
              " theta_1_4  0.000000  0.000000e+00,\n",
              "                iv\n",
              " IDENTIF          \n",
              " iv_1     0.073636)"
            ]
          },
          "execution_count": 273,
          "metadata": {},
          "output_type": "execute_result"
        }
      ],
      "source": [
        "# Repeat for IV slope coefficient (Figure 2 in the paper)\n",
        "supp_z = np.array([0,1,2])\n",
        "f_z = np.array([0.5, 0.4, 0.1])\n",
        "prop_z = np.array([0.35, 0.6, 0.7])\n",
        "\n",
        "# Cotribution to target parameter\n",
        "gamma_df = pd.DataFrame(\n",
        "    [\n",
        "        (\"theta_0_1\", gamma_star0_late(cs_0_35, w_target_late, u_lo=0.35, u_hi=0.9)),\n",
        "        (\"theta_0_2\", gamma_star0_late(cs_35_60, w_target_late, u_lo=0.35, u_hi=0.9)),\n",
        "        (\"theta_0_3\", gamma_star0_late(cs_60_90, w_target_late, u_lo=0.35, u_hi=0.9)),\n",
        "        (\"theta_0_4\", gamma_star0_late(cs_90_1, w_target_late, u_lo=0.35, u_hi=0.9)),\n",
        "        (\"theta_1_1\", gamma_star1_late(cs_0_35, w_target_late, u_lo=0.35, u_hi=0.9)),\n",
        "        (\"theta_1_2\", gamma_star1_late(cs_35_60, w_target_late, u_lo=0.35, u_hi=0.9)),\n",
        "        (\"theta_1_3\", gamma_star1_late(cs_60_90, w_target_late, u_lo=0.35, u_hi=0.9)),\n",
        "        (\"theta_1_4\", gamma_star1_late(cs_90_1, w_target_late, u_lo=0.35, u_hi=0.9)),\n",
        "    ],\n",
        "    columns=[\"THETA\", \"gamma\"],\n",
        ").set_index(\"THETA\")\n",
        "\n",
        "# Contribution to identified parameter\n",
        "gamma_ident_df = pd.DataFrame(\n",
        "    [\n",
        "        (\"theta_0_1\", gamma_0_iv_slope(cs_0_35, s_iv_slope, supp_z, f_z, prop_z)),\n",
        "        (\"theta_0_2\", gamma_0_iv_slope(cs_35_60, s_iv_slope, supp_z, f_z, prop_z)),\n",
        "        (\"theta_0_3\", gamma_0_iv_slope(cs_60_90, s_iv_slope, supp_z, f_z, prop_z)),\n",
        "        (\"theta_0_4\", gamma_0_iv_slope(cs_90_1, s_iv_slope, supp_z, f_z, prop_z)),\n",
        "\n",
        "        (\"theta_1_1\", gamma_1_iv_slope(cs_0_35, s_iv_slope, supp_z, f_z, prop_z)),\n",
        "        (\"theta_1_2\", gamma_1_iv_slope(cs_35_60, s_iv_slope, supp_z, f_z, prop_z)),\n",
        "        (\"theta_1_3\", gamma_1_iv_slope(cs_60_90, s_iv_slope, supp_z, f_z, prop_z)),\n",
        "        (\"theta_1_4\", gamma_1_iv_slope(cs_90_1, s_iv_slope, supp_z, f_z, prop_z)),\n",
        "    ],\n",
        "    columns=[\"THETA\", \"gamma_ident\"],\n",
        ").set_index(\"THETA\")\n",
        "\n",
        "# Join gamma_df and gamma_ident_df\n",
        "gamma_df = gamma_df.join(gamma_ident_df)\n",
        "\n",
        "a, b = gamma_0_iv_slope(m0_dgp, s_iv_slope, supp_z, f_z, prop_z), gamma_1_iv_slope(m1_dgp, s_iv_slope, supp_z, f_z, prop_z)\n",
        "\n",
        "iv_df = pd.DataFrame(\n",
        "    [\n",
        "        (\"iv_1\", a+b)\n",
        "    ],\n",
        "    columns = [\"IDENTIF\", \"iv\"]\n",
        ").set_index(\"IDENTIF\")\n",
        "\n",
        "gamma_df, iv_df\n"
      ]
    },
    {
      "cell_type": "code",
      "execution_count": 254,
      "metadata": {},
      "outputs": [],
      "source": [
        "%%ampl_eval\n",
        "reset;\n",
        "set THETA;\n",
        "set IDENTIF;\n",
        "\n",
        "param gamma {THETA};\n",
        "param gamma_ident {THETA};\n",
        "param iv {IDENTIF};\n",
        "\n",
        "var Theta_val {j in THETA} >= 0, <= 1;\n",
        "\n",
        "maximize beta: sum {j in THETA} gamma[j] * Theta_val[j];\n",
        "subject to Identified {i in IDENTIF}:\n",
        "sum {j in THETA} gamma_ident[j] * Theta_val[j] == iv[i];"
      ]
    },
    {
      "cell_type": "code",
      "execution_count": 255,
      "metadata": {},
      "outputs": [
        {
          "name": "stdout",
          "output_type": "stream",
          "text": [
            "HiGHS 1.5.1:   Warning code 1 for call Highs_addRows(lp(), AccConstraints.lb.size(), AccConstraints.lb.data(), AccConstraints.ub.data(), AccConstraints.coeffs.size(), AccConstraints.starts.data(), AccConstraints.indices.data(), AccConstraints.coeffs.data())\n",
            "HiGHS 1.5.1: optimal solution; objective 0.5003247475\n",
            "0 simplex iterations\n",
            "0 barrier iterations\n",
            "Objective is: 0.5003247474747358\n",
            "argmax:            Theta_val.val\n",
            "theta_0_1       0.000000\n",
            "theta_0_2       0.099286\n",
            "theta_0_3       0.000000\n",
            "theta_0_4       0.000000\n",
            "theta_1_1       0.000000\n",
            "theta_1_2       0.000000\n",
            "theta_1_3       1.000000\n",
            "theta_1_4       0.000000\n"
          ]
        }
      ],
      "source": [
        "\n",
        "ampl.set_data(gamma_df, \"THETA\")\n",
        "ampl.set_data(iv_df, \"IDENTIF\")\n",
        "\n",
        "# Specify the solver to use (e.g., HiGHS)\n",
        "ampl.option[\"solver\"] = \"highs\"\n",
        "# Solve\n",
        "ampl.solve()\n",
        "\n",
        "# Stop if the model was not solved\n",
        "assert ampl.get_value(\"solve_result\") == \"solved\"\n",
        "# Get objective entity by AMPL name\n",
        "beta_hi = ampl.get_objective('beta')\n",
        "# Print it\n",
        "print(\"Objective is:\", beta_hi.value())\n",
        "argmax = ampl.get_variable('Theta_val').get_values().to_pandas()\n",
        "print(\"argmax:\", argmax)"
      ]
    },
    {
      "cell_type": "code",
      "execution_count": 256,
      "metadata": {},
      "outputs": [],
      "source": [
        "%%ampl_eval\n",
        "reset;\n",
        "set THETA;\n",
        "set IDENTIF;\n",
        "\n",
        "param gamma {THETA};\n",
        "param gamma_ident {THETA};\n",
        "param iv {IDENTIF};\n",
        "\n",
        "var Theta_val {j in THETA} >= 0, <= 1;\n",
        "\n",
        "minimize beta: sum {j in THETA} gamma[j] * Theta_val[j];\n",
        "subject to Identified {i in IDENTIF}:\n",
        "sum {j in THETA} gamma_ident[j] * Theta_val[j] == iv[i];"
      ]
    },
    {
      "cell_type": "code",
      "execution_count": 257,
      "metadata": {},
      "outputs": [
        {
          "name": "stdout",
          "output_type": "stream",
          "text": [
            "HiGHS 1.5.1:   Warning code 1 for call Highs_addRows(lp(), AccConstraints.lb.size(), AccConstraints.lb.data(), AccConstraints.ub.data(), AccConstraints.coeffs.size(), AccConstraints.starts.data(), AccConstraints.indices.data(), AccConstraints.coeffs.data())\n",
            "HiGHS 1.5.1: optimal solution; objective -0.4208873737\n",
            "0 simplex iterations\n",
            "0 barrier iterations\n",
            "Objective is: -0.4208873737373858\n",
            "argmax:            Theta_val.val\n",
            "theta_0_1       0.000000\n",
            "theta_0_2       0.000000\n",
            "theta_0_3       1.000000\n",
            "theta_0_4       0.000000\n",
            "theta_1_1       0.000000\n",
            "theta_1_2       0.274048\n",
            "theta_1_3       0.000000\n",
            "theta_1_4       0.000000\n"
          ]
        }
      ],
      "source": [
        "\n",
        "ampl.set_data(gamma_df, \"THETA\")\n",
        "ampl.set_data(iv_df, \"IDENTIF\")\n",
        "\n",
        "# Specify the solver to use (e.g., HiGHS)\n",
        "ampl.option[\"solver\"] = \"highs\"\n",
        "# Solve\n",
        "ampl.solve()\n",
        "\n",
        "# Stop if the model was not solved\n",
        "assert ampl.get_value(\"solve_result\") == \"solved\"\n",
        "# Get objective entity by AMPL name\n",
        "beta_hi = ampl.get_objective('beta')\n",
        "# Print it\n",
        "print(\"Objective is:\", beta_hi.value())\n",
        "argmax = ampl.get_variable('Theta_val').get_values().to_pandas()\n",
        "print(\"argmax:\", argmax)"
      ]
    },
    {
      "cell_type": "code",
      "execution_count": 296,
      "metadata": {},
      "outputs": [
        {
          "data": {
            "text/plain": [
              "(array([0., 0., 0., 0., 1., 1., 1., 1.]),\n",
              " ['theta0_0',\n",
              "  'theta0_1',\n",
              "  'theta0_2',\n",
              "  'theta0_3',\n",
              "  'theta1_0',\n",
              "  'theta1_1',\n",
              "  'theta1_2',\n",
              "  'theta1_3'])"
            ]
          },
          "execution_count": 296,
          "metadata": {},
          "output_type": "execute_result"
        }
      ],
      "source": [
        "d0 = [\"theta0_\" + str(i) for i in range(4)]\n",
        "d1 = [\"theta1_\" + str(i) for i in range(4)]\n",
        "d = d0 + d1\n",
        "\n",
        "a = np.zeros(4)\n",
        "b = np.ones(4)\n",
        "\n",
        "d, a, b\n",
        "\n",
        "c = np.concatenate((a, b))\n",
        "c, d\n"
      ]
    },
    {
      "cell_type": "code",
      "execution_count": 304,
      "metadata": {},
      "outputs": [
        {
          "data": {
            "text/plain": [
              "'THETA'"
            ]
          },
          "execution_count": 304,
          "metadata": {},
          "output_type": "execute_result"
        }
      ],
      "source": [
        "df.index.rename(\"THETA\", inplace=True)\n",
        "df.index.name"
      ]
    },
    {
      "cell_type": "code",
      "execution_count": null,
      "metadata": {},
      "outputs": [],
      "source": []
    }
  ],
  "metadata": {
    "colab": {
      "provenance": []
    },
    "kernelspec": {
      "display_name": "Python 3",
      "language": "python",
      "name": "python3"
    },
    "language_info": {
      "codemirror_mode": {
        "name": "ipython",
        "version": 3
      },
      "file_extension": ".py",
      "mimetype": "text/x-python",
      "name": "python",
      "nbconvert_exporter": "python",
      "pygments_lexer": "ipython3",
      "version": "3.10.9"
    },
    "vscode": {
      "interpreter": {
        "hash": "24209f11fee719204716071d008026089e3b3353af3d540e4dfc4f270a7a7039"
      }
    }
  },
  "nbformat": 4,
  "nbformat_minor": 0
}
